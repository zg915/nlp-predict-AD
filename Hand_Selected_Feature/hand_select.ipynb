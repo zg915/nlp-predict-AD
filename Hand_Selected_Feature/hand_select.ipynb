{
 "cells": [
  {
   "cell_type": "code",
   "execution_count": 57,
   "metadata": {},
   "outputs": [],
   "source": [
    "import numpy as np\n",
    "import pandas as pd\n",
    "from spellchecker import SpellChecker\n",
    "import string\n",
    "import re\n",
    "import nltk\n",
    "from nltk.tokenize import word_tokenize\n",
    "from nltk import pos_tag\n",
    "import spacy"
   ]
  },
  {
   "cell_type": "code",
   "execution_count": 58,
   "metadata": {},
   "outputs": [],
   "source": [
    "train_df = pd.read_csv('/Users/catherine/Desktop/Fall 2024/nlp-predict-AD/data/train_complete_v1_800.csv', index_col='index')\n",
    "train_df.drop(columns=['example_index',], inplace=True)\n",
    "test_df = pd.read_csv('/Users/catherine/Desktop/Fall 2024/nlp-predict-AD/data/test_complete_v1_149.csv', index_col='index')\n",
    "test_df.drop(columns=['example_index',], inplace=True)"
   ]
  },
  {
   "cell_type": "markdown",
   "metadata": {},
   "source": [
    "## Total Number of Sentences & Average Length of Sentence"
   ]
  },
  {
   "cell_type": "code",
   "execution_count": 59,
   "metadata": {},
   "outputs": [],
   "source": [
    "def count_sentences_average_length(text):\n",
    "    # Split the text based on sentence-ending punctuation (.!?)\n",
    "    text = re.sub(r'\\([^)]*\\)', '', text)\n",
    "    sentences = re.split(r'[.?!]', text)\n",
    "    length_sentence = len(sentences)-1\n",
    "    total_words = sum(len(sentence.split()) for sentence in sentences)-1\n",
    "    average_length = total_words / length_sentence\n",
    "    return length_sentence, average_length\n",
    "\n",
    "train_df[['sentence_count', 'avg_sentence_length']] = train_df['line'].apply(\n",
    "    lambda x: pd.Series(count_sentences_average_length(x)))\n",
    "test_df[['sentence_count', 'avg_sentence_length']] = test_df['line'].apply(\n",
    "    lambda x: pd.Series(count_sentences_average_length(x)))"
   ]
  },
  {
   "cell_type": "markdown",
   "metadata": {},
   "source": [
    "## Ratio of Open-class Words to Closed-class Words"
   ]
  },
  {
   "cell_type": "code",
   "execution_count": 60,
   "metadata": {},
   "outputs": [],
   "source": [
    "nlp = spacy.load(\"en_core_web_sm\")\n",
    "\n",
    "def open_closed_word_ratio(text):\n",
    "    doc = nlp(text)  \n",
    "    open_class_count = 0\n",
    "    closed_class_count = 0\n",
    "    \n",
    "    for token in doc:\n",
    "        if token.pos_ in {\"NOUN\", \"VERB\", \"ADJ\", \"ADV\"}:  \n",
    "            open_class_count += 1\n",
    "        elif token.pos_ in {\"PRON\", \"ADP\", \"CONJ\", \"DET\", \"AUX\", \"SCONJ\", \"CCONJ\", \"PART\"}:\n",
    "            closed_class_count += 1\n",
    "    \n",
    "    if closed_class_count == 0:\n",
    "        return 0  \n",
    "    return open_class_count/closed_class_count\n",
    "\n",
    "\n",
    "train_df['open_closed_ratio'] = train_df['line'].apply(open_closed_word_ratio)\n",
    "test_df['open_closed_ratio'] = test_df['line'].apply(open_closed_word_ratio)"
   ]
  },
  {
   "cell_type": "markdown",
   "metadata": {},
   "source": [
    "## Total Number of Simple Verb Forms & Compound Verb Forms"
   ]
  },
  {
   "cell_type": "code",
   "execution_count": 61,
   "metadata": {},
   "outputs": [],
   "source": [
    "def count_verbs(text):\n",
    "    doc = nlp(text)\n",
    "    \n",
    "    simple_verbs = 0\n",
    "    compound_verbs = 0\n",
    "\n",
    "    for token in doc:\n",
    "        # Identify standalone verbs (simple verbs)\n",
    "        if token.pos_ == \"VERB\" and not any(child.dep_ == \"aux\" for child in token.children):\n",
    "            simple_verbs += 1\n",
    "            # print(token)\n",
    "        # Identify main verbs with auxiliary verbs (compound verbs)\n",
    "        if token.pos_ == \"VERB\" and any(child.dep_ == \"aux\" for child in token.children):\n",
    "            compound_verbs += 1\n",
    "            # print(token)\n",
    "\n",
    "    return simple_verbs, compound_verbs\n",
    "\n",
    "train_df[['simple_verbs', 'compound_verbs']] = train_df['line'].apply(\n",
    "    lambda x: pd.Series(count_verbs(x)))\n",
    "test_df[['simple_verbs', 'compound_verbs']] = test_df['line'].apply(\n",
    "    lambda x: pd.Series(count_verbs(x)))"
   ]
  },
  {
   "cell_type": "markdown",
   "metadata": {},
   "source": [
    "## Number of pause"
   ]
  },
  {
   "cell_type": "code",
   "execution_count": 67,
   "metadata": {},
   "outputs": [],
   "source": [
    "def count_pauses(text):\n",
    "    pauses = re.findall(r'\\(\\.{1,3}\\)', text)\n",
    "    return len(pauses)\n",
    "\n",
    "train_df['pause_count'] = train_df['line'].apply(count_pauses)\n",
    "test_df['pause_count'] = test_df['line'].apply(count_pauses)"
   ]
  },
  {
   "cell_type": "markdown",
   "metadata": {},
   "source": [
    "## Average word length (in letters)"
   ]
  },
  {
   "cell_type": "code",
   "execution_count": 73,
   "metadata": {},
   "outputs": [],
   "source": [
    "def average_word_length(text):\n",
    "    text_no_punctuation = text.translate(str.maketrans('', '', string.punctuation))\n",
    "    words = text_no_punctuation.split() # Split the text into words\n",
    "    total_letters = sum(len(word) for word in words)  # Count letters in all words\n",
    "    total_words = len(words)  # Count total words\n",
    "    return total_letters / total_words  # Calculate average length\n",
    "\n",
    "train_df['avg_word_length'] = train_df['line'].apply(average_word_length)\n",
    "test_df['avg_word_length'] = test_df['line'].apply(average_word_length)\n"
   ]
  },
  {
   "cell_type": "markdown",
   "metadata": {},
   "source": [
    "## Proportion of pronouns"
   ]
  },
  {
   "cell_type": "code",
   "execution_count": 77,
   "metadata": {},
   "outputs": [],
   "source": [
    "def calculate_pronoun_proportion(text):\n",
    "    doc = nlp(text)  \n",
    "    total_words = len([token for token in doc if token.is_alpha])  # Count only alphabetic words\n",
    "    pronouns = len([token for token in doc if token.pos_ == \"PRON\"])  # Count pronouns\n",
    "    if total_words == 0:  \n",
    "        return 0\n",
    "    return pronouns / total_words\n",
    "\n",
    "train_df['pronoun_proportion'] = train_df['line'].apply(calculate_pronoun_proportion)\n",
    "test_df['pronoun_proportion'] = test_df['line'].apply(calculate_pronoun_proportion)"
   ]
  },
  {
   "cell_type": "markdown",
   "metadata": {},
   "source": [
    "## Proportion of non-dictionary words"
   ]
  },
  {
   "cell_type": "code",
   "execution_count": 87,
   "metadata": {},
   "outputs": [],
   "source": [
    "spell = SpellChecker()\n",
    "\n",
    "def calculate_non_dictionary_proportion(text):\n",
    "    text_no_punctuation = text.translate(str.maketrans('', '', '?!.,()+\"'))\n",
    "    words = text_no_punctuation.split()\n",
    "    total_words = len(words)  \n",
    "    # Count words that are not in the dictionary and don't end with 'in'\n",
    "    non_dictionary_words = [\n",
    "        word for word in words \n",
    "        if word.lower() not in spell and not word.lower().endswith('in')\n",
    "    ]\n",
    "    return len(non_dictionary_words) /total_words # Calculate proportion\n",
    "\n",
    "train_df['non_dict_word_proportion'] = train_df['line'].apply(calculate_non_dictionary_proportion)\n",
    "test_df['non_dict_word_proportion'] = test_df['line'].apply(calculate_non_dictionary_proportion)"
   ]
  },
  {
   "cell_type": "markdown",
   "metadata": {},
   "source": [
    "## Proportion of words in adverb category"
   ]
  },
  {
   "cell_type": "code",
   "execution_count": 91,
   "metadata": {},
   "outputs": [],
   "source": [
    "def calculate_adverb_proportion(text):\n",
    "    doc = nlp(text)\n",
    "    total_words = len([token for token in doc if token.is_alpha])  \n",
    "    adverbs = len([token for token in doc if token.pos_ == \"ADV\"]) \n",
    "    return adverbs / total_words  \n",
    "\n",
    "train_df['adverb_proportion'] = train_df['line'].apply(calculate_adverb_proportion)\n",
    "test_df['adverb_proportion'] = test_df['line'].apply(calculate_adverb_proportion)"
   ]
  },
  {
   "cell_type": "code",
   "execution_count": 93,
   "metadata": {},
   "outputs": [],
   "source": [
    "train_df.to_csv('/Users/catherine/Desktop/Fall 2024/nlp-predict-AD/data/train_features.csv')"
   ]
  },
  {
   "cell_type": "code",
   "execution_count": 94,
   "metadata": {},
   "outputs": [],
   "source": [
    "test_df.to_csv('/Users/catherine/Desktop/Fall 2024/nlp-predict-AD/data/test_features.csv')"
   ]
  },
  {
   "cell_type": "code",
   "execution_count": null,
   "metadata": {},
   "outputs": [],
   "source": []
  }
 ],
 "metadata": {
  "kernelspec": {
   "display_name": "capstone",
   "language": "python",
   "name": "python3"
  },
  "language_info": {
   "codemirror_mode": {
    "name": "ipython",
    "version": 3
   },
   "file_extension": ".py",
   "mimetype": "text/x-python",
   "name": "python",
   "nbconvert_exporter": "python",
   "pygments_lexer": "ipython3",
   "version": "3.11.0"
  }
 },
 "nbformat": 4,
 "nbformat_minor": 2
}
