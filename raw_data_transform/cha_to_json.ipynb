{
 "cells": [
  {
   "cell_type": "code",
   "execution_count": 1,
   "metadata": {},
   "outputs": [],
   "source": [
    "import sys\n",
    "from ChaFile import *\n",
    "from os import listdir\n",
    "import json"
   ]
  },
  {
   "cell_type": "code",
   "execution_count": 2,
   "metadata": {},
   "outputs": [],
   "source": [
    "cha = ChaFile(\"/Users/alan/Desktop/06 Capstone/Pitt/Dementia/cookie/005-0.cha\")\n",
    "lines = cha.getLines()\n",
    "speakers = cha.getSpeakers()"
   ]
  },
  {
   "cell_type": "code",
   "execution_count": 5,
   "metadata": {},
   "outputs": [
    {
     "name": "stdout",
     "output_type": "stream",
     "text": [
      "{'número_de_linea': 12, 'número_de_emisión': 1, 'hablante': 'INV', 'emisión': 'this is the picture . ', 'bullet': [300, 2140], 'wor': 'this \\x15300_1130\\x15 is \\x151130_1280\\x15 the \\x151280_1420\\x15 picture \\x151420_2140\\x15 .', 'mor': [{'categoria': 'pro:dem', 'lexema': 'this', 'extra': ''}, {'categoria': 'cop', 'lexema': 'be', 'extra': '&3S'}, {'categoria': 'det:art', 'lexema': 'the', 'extra': ''}, {'categoria': 'n', 'lexema': 'picture', 'extra': ''}], 'gra': '1|2|SUBJ 2|0|ROOT 3|4|DET 4|2|PRED 5|2|PUNCT', 'destinatario': 'ADULT'}\n"
     ]
    }
   ],
   "source": [
    "for line in lines:\n",
    "    print(line)\n",
    "    break"
   ]
  },
  {
   "cell_type": "code",
   "execution_count": 3,
   "metadata": {},
   "outputs": [],
   "source": [
    "def translate_keys(input_dict):\n",
    "    # Mapping of non-English keys to English keys\n",
    "    translation_map = {\n",
    "        'número_de_linea': 'line_number',\n",
    "        'número_de_emisión': 'utterance_number',\n",
    "        'hablante': 'speaker',\n",
    "        'emisión': 'utterance',\n",
    "        'bullet': 'bullet',\n",
    "        'wor': 'word_structure',\n",
    "        'mor': 'morphological_analysis',\n",
    "        'gra': 'grammatical_relations',\n",
    "        'destinatario': 'recipient',\n",
    "        'categoria': 'category',\n",
    "        'lexema': 'lemma',\n",
    "        'extra': 'extra'\n",
    "    }\n",
    "\n",
    "    # Recursive function to translate keys in nested structures\n",
    "    def translate(item):\n",
    "        if isinstance(item, dict):\n",
    "            return {translation_map.get(k, k): translate(v) for k, v in item.items()}\n",
    "        elif isinstance(item, list):\n",
    "            return [translate(i) for i in item]\n",
    "        else:\n",
    "            return item\n",
    "\n",
    "    # Translate the outer dictionary\n",
    "    return translate(input_dict)"
   ]
  },
  {
   "cell_type": "code",
   "execution_count": 4,
   "metadata": {},
   "outputs": [],
   "source": [
    "def get_json_format(file_list):\n",
    "    data = {}\n",
    "\n",
    "    for file in file_list:\n",
    "        # Get conversation details\n",
    "        cha = ChaFile(file)\n",
    "        file_name =  file.split(\"/\")[-1]\n",
    "        lines = cha.getLines()\n",
    "        speakers = cha.getSpeakers()\n",
    "        language = cha.getLanguage()\n",
    "        \n",
    "        # Create a dictionary for each conversation with metadata and sentences\n",
    "        conversation_data = {\n",
    "            \"meta\": {\n",
    "                \"speakers\": speakers,\n",
    "                \"language\": language\n",
    "            },\n",
    "            \"lines\": []\n",
    "        }\n",
    "        \n",
    "        # Process each line in the conversation\n",
    "        for line in lines:\n",
    "            translated_line = translate_keys(line)  # Use your function to translate line keys\n",
    "            conversation_data[\"lines\"].append(translated_line)\n",
    "        \n",
    "        # Add the conversation data to the main data dictionary\n",
    "        data[file_name] = conversation_data\n",
    "    return data"
   ]
  },
  {
   "cell_type": "code",
   "execution_count": 37,
   "metadata": {},
   "outputs": [
    {
     "data": {
      "text/plain": [
       "306"
      ]
     },
     "execution_count": 37,
     "metadata": {},
     "output_type": "execute_result"
    }
   ],
   "source": [
    "dir_path = \"/Users/alan/Desktop/06 Capstone/Pitt/Dementia/cookie/\"\n",
    "file_list = [dir_path + f for f in listdir(dir_path)]\n",
    "try: file_list.remove(\".DS_Store\")\n",
    "except: pass\n",
    "len(file_list)"
   ]
  },
  {
   "cell_type": "code",
   "execution_count": 43,
   "metadata": {},
   "outputs": [
    {
     "name": "stdout",
     "output_type": "stream",
     "text": [
      "306\n",
      "243\n",
      "JSON file has been created.\n"
     ]
    }
   ],
   "source": [
    "dir_path = \"/Users/alan/Desktop/06 Capstone/Pitt/Dementia/cookie/\"\n",
    "file_list = [dir_path + f for f in listdir(dir_path)]\n",
    "try: file_list.remove(\".DS_Store\")\n",
    "except: pass\n",
    "print(len(file_list))\n",
    "\n",
    "dementia_data = get_json_format(file_list)\n",
    "\n",
    "\n",
    "dir_path = \"/Users/alan/Desktop/06 Capstone/Pitt/Control/cookie/\"\n",
    "file_list = [dir_path + f for f in listdir(dir_path)]\n",
    "try: file_list.remove(\".DS_Store\")\n",
    "except: pass\n",
    "print(len(file_list))\n",
    "\n",
    "control_data = get_json_format(file_list)\n",
    "\n",
    "data = {\"dementia\": dementia_data, \"control\": control_data}\n",
    "\n",
    "# Save the data to a JSON file\n",
    "with open('cookie.json', 'w', encoding='utf-8') as f:\n",
    "    json.dump(data, f, ensure_ascii=False, indent=2)\n",
    "\n",
    "print(\"JSON file has been created.\")"
   ]
  },
  {
   "cell_type": "code",
   "execution_count": null,
   "metadata": {},
   "outputs": [],
   "source": []
  }
 ],
 "metadata": {
  "kernelspec": {
   "display_name": "general",
   "language": "python",
   "name": "python3"
  },
  "language_info": {
   "codemirror_mode": {
    "name": "ipython",
    "version": 3
   },
   "file_extension": ".py",
   "mimetype": "text/x-python",
   "name": "python",
   "nbconvert_exporter": "python",
   "pygments_lexer": "ipython3",
   "version": "3.11.4"
  }
 },
 "nbformat": 4,
 "nbformat_minor": 2
}
