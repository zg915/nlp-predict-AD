{
 "cells": [
  {
   "cell_type": "code",
   "execution_count": 1,
   "metadata": {},
   "outputs": [],
   "source": [
    "from openai import OpenAI\n",
    "import ast\n",
    "import json\n",
    "import pandas as pd\n",
    "from IPython import display\n",
    "from sklearn.model_selection import train_test_split\n",
    "from pydantic import BaseModel\n",
    "from tqdm import tqdm"
   ]
  },
  {
   "cell_type": "code",
   "execution_count": 2,
   "metadata": {},
   "outputs": [],
   "source": [
    "MODEL=\"gpt-4o-2024-08-06\"\n",
    "openai_api_key =  \"\""
   ]
  },
  {
   "cell_type": "code",
   "execution_count": 3,
   "metadata": {},
   "outputs": [],
   "source": [
    "class ClassificationResponse(BaseModel):\n",
    "    Classification: int  # Expecting an integer output (1 or 0)"
   ]
  },
  {
   "cell_type": "code",
   "execution_count": 4,
   "metadata": {},
   "outputs": [],
   "source": [
    "train = pd.read_csv(\"../data/train_v2_400.csv\")\n",
    "train_patient = train[train[\"label\"] == 1]\n",
    "train_control = train[train[\"label\"] == 0]\n",
    "\n",
    "test = pd.read_csv(\"../data/test_v2_149.csv\")\n",
    "test[\"GPT_response\"] = pd.NA\n",
    "test[\"GPT_label\"] = pd.NA\n",
    "test[\"example_index\"] = pd.NA"
   ]
  },
  {
   "cell_type": "code",
   "execution_count": 5,
   "metadata": {},
   "outputs": [
    {
     "data": {
      "text/html": [
       "<div>\n",
       "<style scoped>\n",
       "    .dataframe tbody tr th:only-of-type {\n",
       "        vertical-align: middle;\n",
       "    }\n",
       "\n",
       "    .dataframe tbody tr th {\n",
       "        vertical-align: top;\n",
       "    }\n",
       "\n",
       "    .dataframe thead th {\n",
       "        text-align: right;\n",
       "    }\n",
       "</style>\n",
       "<table border=\"1\" class=\"dataframe\">\n",
       "  <thead>\n",
       "    <tr style=\"text-align: right;\">\n",
       "      <th></th>\n",
       "      <th>index</th>\n",
       "      <th>label</th>\n",
       "      <th>line</th>\n",
       "      <th>GPT_response</th>\n",
       "      <th>GPT_label</th>\n",
       "      <th>example_index</th>\n",
       "    </tr>\n",
       "  </thead>\n",
       "  <tbody>\n",
       "    <tr>\n",
       "      <th>0</th>\n",
       "      <td>307</td>\n",
       "      <td>0</td>\n",
       "      <td>INV: what do you see going on in that picture?...</td>\n",
       "      <td>&lt;NA&gt;</td>\n",
       "      <td>&lt;NA&gt;</td>\n",
       "      <td>&lt;NA&gt;</td>\n",
       "    </tr>\n",
       "    <tr>\n",
       "      <th>1</th>\n",
       "      <td>320</td>\n",
       "      <td>0</td>\n",
       "      <td>PAR: okay.\\nPAR: there's a little boy.\\nPAR: a...</td>\n",
       "      <td>&lt;NA&gt;</td>\n",
       "      <td>&lt;NA&gt;</td>\n",
       "      <td>&lt;NA&gt;</td>\n",
       "    </tr>\n",
       "    <tr>\n",
       "      <th>2</th>\n",
       "      <td>326</td>\n",
       "      <td>0</td>\n",
       "      <td>PAR: alright?\\nINV: mhm.\\nPAR: mother's doing ...</td>\n",
       "      <td>&lt;NA&gt;</td>\n",
       "      <td>&lt;NA&gt;</td>\n",
       "      <td>&lt;NA&gt;</td>\n",
       "    </tr>\n",
       "    <tr>\n",
       "      <th>3</th>\n",
       "      <td>327</td>\n",
       "      <td>0</td>\n",
       "      <td>INV: okay good.\\nINV: tell me all of the thing...</td>\n",
       "      <td>&lt;NA&gt;</td>\n",
       "      <td>&lt;NA&gt;</td>\n",
       "      <td>&lt;NA&gt;</td>\n",
       "    </tr>\n",
       "    <tr>\n",
       "      <th>4</th>\n",
       "      <td>343</td>\n",
       "      <td>0</td>\n",
       "      <td>PAR: what's going on?\\nPAR: okay.\\nPAR: uh mot...</td>\n",
       "      <td>&lt;NA&gt;</td>\n",
       "      <td>&lt;NA&gt;</td>\n",
       "      <td>&lt;NA&gt;</td>\n",
       "    </tr>\n",
       "  </tbody>\n",
       "</table>\n",
       "</div>"
      ],
      "text/plain": [
       "   index  label                                               line  \\\n",
       "0    307      0  INV: what do you see going on in that picture?...   \n",
       "1    320      0  PAR: okay.\\nPAR: there's a little boy.\\nPAR: a...   \n",
       "2    326      0  PAR: alright?\\nINV: mhm.\\nPAR: mother's doing ...   \n",
       "3    327      0  INV: okay good.\\nINV: tell me all of the thing...   \n",
       "4    343      0  PAR: what's going on?\\nPAR: okay.\\nPAR: uh mot...   \n",
       "\n",
       "  GPT_response GPT_label example_index  \n",
       "0         <NA>      <NA>          <NA>  \n",
       "1         <NA>      <NA>          <NA>  \n",
       "2         <NA>      <NA>          <NA>  \n",
       "3         <NA>      <NA>          <NA>  \n",
       "4         <NA>      <NA>          <NA>  "
      ]
     },
     "execution_count": 5,
     "metadata": {},
     "output_type": "execute_result"
    }
   ],
   "source": [
    "test.head()"
   ]
  },
  {
   "cell_type": "code",
   "execution_count": 6,
   "metadata": {},
   "outputs": [],
   "source": [
    "client = OpenAI(api_key = openai_api_key)"
   ]
  },
  {
   "cell_type": "code",
   "execution_count": 7,
   "metadata": {},
   "outputs": [],
   "source": [
    "def openai_ask(patient, control, text):\n",
    "    response = client.beta.chat.completions.parse(\n",
    "        model=MODEL,\n",
    "        messages=[\n",
    "            {\"role\": \"system\", \"content\": \"Classify the cognitive state from the dialogue.\"},\n",
    "            {\"role\": \"user\", \"content\": (\n",
    "                \"You are an expert language model trained to identify cognitive impairments based on dialogue analysis. \"\n",
    "                \"Your task is to classify a given dialogue as belonging to either a patient with Alzheimer’s Disease (AD), \"\n",
    "                \"Mild Cognitive Impairment (MCI), or a healthy older adult. Please analyze the provided dialogue based on the ten examples and return \"\n",
    "                \"one of the following outputs:\\n\"\n",
    "                \"- Return `1` if the dialogue suggests cognitive impairment (AD or MCI).\\n\"\n",
    "                \"- Return `0` if the dialogue suggests a healthy older adult.\\n\\n\"\n",
    "                f\"Here are five sample dialogues from cognitive impairment patients:\\n{patient}\\n\\n\"\n",
    "                f\"Here are five sample dialogues from healthy older adults:\\n{control}\\n\\n\"\n",
    "                f\"And now please identify this dialogue:\\n{text}\\n\\n\"\n",
    "                \"Output should be a single number: `1` or `0`.\"\n",
    "            )}\n",
    "        ],\n",
    "        response_format=ClassificationResponse,  # Using the pydantic model directly for structured output\n",
    "        temperature=0.0,\n",
    "    )\n",
    "    return response.choices[0].message.content"
   ]
  },
  {
   "cell_type": "code",
   "execution_count": 8,
   "metadata": {},
   "outputs": [
    {
     "data": {
      "text/html": [
       "<div>\n",
       "<style scoped>\n",
       "    .dataframe tbody tr th:only-of-type {\n",
       "        vertical-align: middle;\n",
       "    }\n",
       "\n",
       "    .dataframe tbody tr th {\n",
       "        vertical-align: top;\n",
       "    }\n",
       "\n",
       "    .dataframe thead th {\n",
       "        text-align: right;\n",
       "    }\n",
       "</style>\n",
       "<table border=\"1\" class=\"dataframe\">\n",
       "  <thead>\n",
       "    <tr style=\"text-align: right;\">\n",
       "      <th></th>\n",
       "      <th>index</th>\n",
       "      <th>label</th>\n",
       "      <th>line</th>\n",
       "      <th>GPT_response</th>\n",
       "      <th>GPT_label</th>\n",
       "      <th>example_index</th>\n",
       "    </tr>\n",
       "  </thead>\n",
       "  <tbody>\n",
       "    <tr>\n",
       "      <th>0</th>\n",
       "      <td>307</td>\n",
       "      <td>0</td>\n",
       "      <td>INV: what do you see going on in that picture?...</td>\n",
       "      <td>&lt;NA&gt;</td>\n",
       "      <td>&lt;NA&gt;</td>\n",
       "      <td>&lt;NA&gt;</td>\n",
       "    </tr>\n",
       "    <tr>\n",
       "      <th>1</th>\n",
       "      <td>320</td>\n",
       "      <td>0</td>\n",
       "      <td>PAR: okay.\\nPAR: there's a little boy.\\nPAR: a...</td>\n",
       "      <td>&lt;NA&gt;</td>\n",
       "      <td>&lt;NA&gt;</td>\n",
       "      <td>&lt;NA&gt;</td>\n",
       "    </tr>\n",
       "    <tr>\n",
       "      <th>2</th>\n",
       "      <td>326</td>\n",
       "      <td>0</td>\n",
       "      <td>PAR: alright?\\nINV: mhm.\\nPAR: mother's doing ...</td>\n",
       "      <td>&lt;NA&gt;</td>\n",
       "      <td>&lt;NA&gt;</td>\n",
       "      <td>&lt;NA&gt;</td>\n",
       "    </tr>\n",
       "    <tr>\n",
       "      <th>3</th>\n",
       "      <td>327</td>\n",
       "      <td>0</td>\n",
       "      <td>INV: okay good.\\nINV: tell me all of the thing...</td>\n",
       "      <td>&lt;NA&gt;</td>\n",
       "      <td>&lt;NA&gt;</td>\n",
       "      <td>&lt;NA&gt;</td>\n",
       "    </tr>\n",
       "    <tr>\n",
       "      <th>4</th>\n",
       "      <td>343</td>\n",
       "      <td>0</td>\n",
       "      <td>PAR: what's going on?\\nPAR: okay.\\nPAR: uh mot...</td>\n",
       "      <td>&lt;NA&gt;</td>\n",
       "      <td>&lt;NA&gt;</td>\n",
       "      <td>&lt;NA&gt;</td>\n",
       "    </tr>\n",
       "  </tbody>\n",
       "</table>\n",
       "</div>"
      ],
      "text/plain": [
       "   index  label                                               line  \\\n",
       "0    307      0  INV: what do you see going on in that picture?...   \n",
       "1    320      0  PAR: okay.\\nPAR: there's a little boy.\\nPAR: a...   \n",
       "2    326      0  PAR: alright?\\nINV: mhm.\\nPAR: mother's doing ...   \n",
       "3    327      0  INV: okay good.\\nINV: tell me all of the thing...   \n",
       "4    343      0  PAR: what's going on?\\nPAR: okay.\\nPAR: uh mot...   \n",
       "\n",
       "  GPT_response GPT_label example_index  \n",
       "0         <NA>      <NA>          <NA>  \n",
       "1         <NA>      <NA>          <NA>  \n",
       "2         <NA>      <NA>          <NA>  \n",
       "3         <NA>      <NA>          <NA>  \n",
       "4         <NA>      <NA>          <NA>  "
      ]
     },
     "execution_count": 8,
     "metadata": {},
     "output_type": "execute_result"
    }
   ],
   "source": [
    "test.head()"
   ]
  },
  {
   "cell_type": "code",
   "execution_count": 9,
   "metadata": {},
   "outputs": [
    {
     "name": "stderr",
     "output_type": "stream",
     "text": [
      "  0%|          | 0/149 [00:00<?, ?it/s]"
     ]
    },
    {
     "name": "stderr",
     "output_type": "stream",
     "text": [
      "100%|██████████| 149/149 [01:25<00:00,  1.74it/s]\n"
     ]
    }
   ],
   "source": [
    "for idx, row in tqdm(test.iterrows(), total=test.shape[0]):\n",
    "    patient_tmp = train_patient.sample(5)\n",
    "    control_tmp = train_control.sample(5)\n",
    "    example_index = list(patient_tmp.index) + list(control_tmp.index)\n",
    "\n",
    "    patient_text = patient_tmp.line\n",
    "    patient_text = \"\\n\\n\".join(f\"{i+1}.\\n{string}\" for i, string in enumerate(patient_text))\n",
    "\n",
    "    control_text = control_tmp.line\n",
    "    control_text = \"\\n\\n\".join(f\"{i+1}.\\n{string}\" for i, string in enumerate(control_text))\n",
    "\n",
    "    test.at[idx, \"GPT_response\"] = openai_ask(patient_text, control_text, row[\"line\"])\n",
    "    test.at[idx, \"example_index\"] = example_index"
   ]
  },
  {
   "cell_type": "code",
   "execution_count": 15,
   "metadata": {},
   "outputs": [],
   "source": [
    "test.to_csv(\"../data/gpt_response_10_shot.csv\")"
   ]
  },
  {
   "cell_type": "code",
   "execution_count": 11,
   "metadata": {},
   "outputs": [
    {
     "name": "stderr",
     "output_type": "stream",
     "text": [
      "  0%|          | 0/149 [00:00<?, ?it/s]"
     ]
    },
    {
     "name": "stderr",
     "output_type": "stream",
     "text": [
      "100%|██████████| 149/149 [00:00<00:00, 15673.94it/s]\n"
     ]
    }
   ],
   "source": [
    "for idx, row in tqdm(test.iterrows(), total=test.shape[0]):\n",
    "    test.at[idx, \"GPT_label\"] = int(ast.literal_eval(row[\"GPT_response\"])[\"Classification\"])\n",
    "test[\"GPT_label\"] = test[\"GPT_label\"].astype(int)\n"
   ]
  },
  {
   "cell_type": "code",
   "execution_count": 13,
   "metadata": {},
   "outputs": [
    {
     "name": "stdout",
     "output_type": "stream",
     "text": [
      "Accuracy: 0.6375838926174496\n"
     ]
    },
    {
     "data": {
      "image/png": "[encoded data removed]",
      "text/plain": [
       "<Figure size 400x400 with 2 Axes>"
      ]
     },
     "metadata": {},
     "output_type": "display_data"
    }
   ],
   "source": [
    "from sklearn.metrics import confusion_matrix\n",
    "import seaborn as sns\n",
    "import matplotlib.pyplot as plt\n",
    "\n",
    "print(\"Accuracy:\", (test[\"label\"] == test[\"GPT_label\"]).mean())\n",
    "cm = confusion_matrix(test[\"label\"], test[\"GPT_label\"])\n",
    "plt.figure(figsize=(4,4))\n",
    "plt.rcParams.update({'font.size': 14})\n",
    "sns.heatmap(cm, annot=True, fmt='d', cmap='Blues', annot_kws={\"size\": 16})\n",
    "plt.xlabel('Predicted', fontsize=14)\n",
    "plt.ylabel('True', fontsize=14)\n",
    "plt.title('Confusion Matrix', fontsize=16)\n",
    "plt.show()\n"
   ]
  },
  {
   "cell_type": "code",
   "execution_count": 110,
   "metadata": {},
   "outputs": [],
   "source": [
    "df.to_csv(\"../data/gpt_response_first_try.csv\")"
   ]
  }
 ],
 "metadata": {
  "kernelspec": {
   "display_name": "capstone",
   "language": "python",
   "name": "python3"
  },
  "language_info": {
   "codemirror_mode": {
    "name": "ipython",
    "version": 3
   },
   "file_extension": ".py",
   "mimetype": "text/x-python",
   "name": "python",
   "nbconvert_exporter": "python",
   "pygments_lexer": "ipython3",
   "version": "3.11.10"
  }
 },
 "nbformat": 4,
 "nbformat_minor": 2
}
