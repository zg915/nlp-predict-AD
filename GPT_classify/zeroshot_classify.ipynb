{
 "cells": [
  {
   "cell_type": "code",
   "execution_count": 1,
   "metadata": {},
   "outputs": [],
   "source": [
    "from openai import OpenAI\n",
    "import ast\n",
    "import json\n",
    "import pandas as pd\n",
    "from IPython import display\n",
    "from sklearn.model_selection import train_test_split\n",
    "from pydantic import BaseModel\n",
    "from tqdm import tqdm"
   ]
  },
  {
   "cell_type": "code",
   "execution_count": null,
   "metadata": {},
   "outputs": [],
   "source": [
    "MODEL=\"gpt-4o-2024-08-06\"\n",
    "openai_api_key =  \"\""
   ]
  },
  {
   "cell_type": "code",
   "execution_count": 46,
   "metadata": {},
   "outputs": [],
   "source": [
    "class ClassificationResponse(BaseModel):\n",
    "    Classification: int  # Expecting an integer output (1 or 0)"
   ]
  },
  {
   "cell_type": "code",
   "execution_count": null,
   "metadata": {},
   "outputs": [],
   "source": [
    "def load_data(json_file):\n",
    "    with open(json_file, 'r') as f:\n",
    "        data_list = json.load(f)\n",
    "    lines = [item['line'] for item in data_list]\n",
    "    labels = [item['label'] for item in data_list]\n",
    "    return lines, labels\n",
    "\n",
    "lines, labels = load_data(\"../data/pitt_cookie_cleaned_second_try.json\")\n",
    "lines_train, lines_test, labels_train, labels_test = train_test_split(\n",
    "        lines, labels, test_size=0.3, random_state=42\n",
    "    )"
   ]
  },
  {
   "cell_type": "code",
   "execution_count": 3,
   "metadata": {},
   "outputs": [],
   "source": [
    "df = pd.read_csv(\"../data/gpt_response_zero_shot.csv\", index_col = \"Unnamed: 0\")"
   ]
  },
  {
   "cell_type": "code",
   "execution_count": null,
   "metadata": {},
   "outputs": [
    {
     "data": {
      "text/html": [
       "<div>\n",
       "<style scoped>\n",
       "    .dataframe tbody tr th:only-of-type {\n",
       "        vertical-align: middle;\n",
       "    }\n",
       "\n",
       "    .dataframe tbody tr th {\n",
       "        vertical-align: top;\n",
       "    }\n",
       "\n",
       "    .dataframe thead th {\n",
       "        text-align: right;\n",
       "    }\n",
       "</style>\n",
       "<table border=\"1\" class=\"dataframe\">\n",
       "  <thead>\n",
       "    <tr style=\"text-align: right;\">\n",
       "      <th></th>\n",
       "      <th>text_patient</th>\n",
       "      <th>text_dialog</th>\n",
       "      <th>label</th>\n",
       "      <th>gpt_response_patient</th>\n",
       "      <th>gpt_response_dialog</th>\n",
       "    </tr>\n",
       "  </thead>\n",
       "  <tbody>\n",
       "    <tr>\n",
       "      <th>0</th>\n",
       "      <td>this uh boy is getting uh cookies out_of this...</td>\n",
       "      <td>INV: what do you see going on in that picture ...</td>\n",
       "      <td>1</td>\n",
       "      <td>NaN</td>\n",
       "      <td>NaN</td>\n",
       "    </tr>\n",
       "    <tr>\n",
       "      <th>1</th>\n",
       "      <td>uh she's um w w w washing dishes . \\n and this...</td>\n",
       "      <td>PAR: uh she's um w w w washing dishes . \\n INV...</td>\n",
       "      <td>1</td>\n",
       "      <td>NaN</td>\n",
       "      <td>NaN</td>\n",
       "    </tr>\n",
       "    <tr>\n",
       "      <th>2</th>\n",
       "      <td>hm .  \\n xxx . \\n this little boy has his hand...</td>\n",
       "      <td>INV: there's the picture . \\n PAR: hm .  \\n PA...</td>\n",
       "      <td>0</td>\n",
       "      <td>NaN</td>\n",
       "      <td>NaN</td>\n",
       "    </tr>\n",
       "    <tr>\n",
       "      <th>3</th>\n",
       "      <td>is it alright to say mother and s son and daug...</td>\n",
       "      <td>INV: okay there you go . \\n INV: there's the p...</td>\n",
       "      <td>1</td>\n",
       "      <td>NaN</td>\n",
       "      <td>NaN</td>\n",
       "    </tr>\n",
       "    <tr>\n",
       "      <th>4</th>\n",
       "      <td>well the little girl is reaching for a cookie ...</td>\n",
       "      <td>INV: take a look at that and tell me everythin...</td>\n",
       "      <td>0</td>\n",
       "      <td>NaN</td>\n",
       "      <td>NaN</td>\n",
       "    </tr>\n",
       "  </tbody>\n",
       "</table>\n",
       "</div>"
      ],
      "text/plain": [
       "                                        text_patient  \\\n",
       "0   this uh boy is getting uh cookies out_of this...   \n",
       "1  uh she's um w w w washing dishes . \\n and this...   \n",
       "2  hm .  \\n xxx . \\n this little boy has his hand...   \n",
       "3  is it alright to say mother and s son and daug...   \n",
       "4  well the little girl is reaching for a cookie ...   \n",
       "\n",
       "                                         text_dialog  label  \\\n",
       "0  INV: what do you see going on in that picture ...      1   \n",
       "1  PAR: uh she's um w w w washing dishes . \\n INV...      1   \n",
       "2  INV: there's the picture . \\n PAR: hm .  \\n PA...      0   \n",
       "3  INV: okay there you go . \\n INV: there's the p...      1   \n",
       "4  INV: take a look at that and tell me everythin...      0   \n",
       "\n",
       "   gpt_response_patient  gpt_response_dialog  \n",
       "0                   NaN                  NaN  \n",
       "1                   NaN                  NaN  \n",
       "2                   NaN                  NaN  \n",
       "3                   NaN                  NaN  \n",
       "4                   NaN                  NaN  "
      ]
     },
     "execution_count": 40,
     "metadata": {},
     "output_type": "execute_result"
    }
   ],
   "source": []
  },
  {
   "cell_type": "code",
   "execution_count": 41,
   "metadata": {},
   "outputs": [],
   "source": [
    "client = OpenAI(api_key = openai_api_key)"
   ]
  },
  {
   "cell_type": "code",
   "execution_count": 52,
   "metadata": {},
   "outputs": [],
   "source": [
    "def openai_ask(text):\n",
    "    response = client.beta.chat.completions.parse(\n",
    "        model=MODEL,\n",
    "        messages=[\n",
    "            {\"role\": \"system\", \"content\": \"Classify the cognitive state from the dialogue.\"},\n",
    "            {\"role\": \"user\", \"content\": (\n",
    "                \"You are an expert language model trained to identify cognitive impairments based on dialogue analysis. \"\n",
    "                \"Your task is to classify a given dialogue as belonging to either a patient with Alzheimer’s Disease (AD), \"\n",
    "                \"Mild Cognitive Impairment (MCI), or a healthy older adult. Please analyze the provided dialogue and return \"\n",
    "                \"one of the following outputs:\\n\"\n",
    "                \"- Return `1` if the dialogue suggests cognitive impairment (AD or MCI).\\n\"\n",
    "                \"- Return `0` if the dialogue suggests a healthy older adult.\\n\\n\"\n",
    "                f\"Dialogue for analysis:\\n{text}\\n\\n\"\n",
    "                \"Output should be a single number: `1` or `0`.\"\n",
    "            )}\n",
    "        ],\n",
    "        response_format=ClassificationResponse,  # Using the pydantic model directly for structured output\n",
    "        temperature=0.0,\n",
    "    )\n",
    "    return response.choices[0].message.content"
   ]
  },
  {
   "cell_type": "code",
   "execution_count": 68,
   "metadata": {},
   "outputs": [
    {
     "data": {
      "text/plain": [
       "'INV: what do you see going on in that picture ? \\n PAR:  this uh boy is getting uh cookies out_of this jar . \\n INV: okay . \\n INV:  anything else ? \\n INV:  what else do you see going on there ? \\n PAR:  well ‡ why  why    they  they must have put  put something     in the uh   uh  in somethin over here .  \\n INV: anything else ? \\n PAR: www . \\n INV: anything else you see going on over there ? \\n INV:  is that it ? \\n PAR: no ‡     g you gotta get the  uh the uh thing   uh out_o the uh ... \\n INV:  is that it ? \\n PAR:  yeah ‡ I guess so .  \\n INV: okay . '"
      ]
     },
     "execution_count": 68,
     "metadata": {},
     "output_type": "execute_result"
    }
   ],
   "source": [
    "text=df[\"text_dialog\"][0]\n",
    "text"
   ]
  },
  {
   "cell_type": "code",
   "execution_count": 70,
   "metadata": {},
   "outputs": [],
   "source": [
    "re = openai_ask(text)"
   ]
  },
  {
   "cell_type": "code",
   "execution_count": null,
   "metadata": {},
   "outputs": [
    {
     "data": {
      "text/plain": [
       "1"
      ]
     },
     "execution_count": 74,
     "metadata": {},
     "output_type": "execute_result"
    }
   ],
   "source": [
    "ast.literal_eval(re)[\"Classification\"]"
   ]
  },
  {
   "cell_type": "code",
   "execution_count": 82,
   "metadata": {},
   "outputs": [
    {
     "name": "stderr",
     "output_type": "stream",
     "text": [
      "100%|██████████| 165/165 [00:26<00:00,  6.27it/s]\n"
     ]
    }
   ],
   "source": [
    "for idx, row in tqdm(df.iterrows(), total=df.shape[0]):\n",
    "    if idx < 130:\n",
    "        continue\n",
    "    df.at[idx, \"gpt_response_patient\"] = openai_ask(row[\"text_patient\"])\n",
    "    df.at[idx, \"gpt_response_dialog\"] = openai_ask(row[\"text_dialog\"])"
   ]
  },
  {
   "cell_type": "code",
   "execution_count": 86,
   "metadata": {},
   "outputs": [],
   "source": [
    "df[\"gpt_label_patient\"] = pd.NA\n",
    "df[\"gpt_label_dialog\"] = pd.NA"
   ]
  },
  {
   "cell_type": "code",
   "execution_count": 105,
   "metadata": {},
   "outputs": [
    {
     "name": "stderr",
     "output_type": "stream",
     "text": [
      "100%|██████████| 165/165 [00:00<00:00, 20810.08it/s]\n"
     ]
    }
   ],
   "source": [
    "for idx, row in tqdm(df.iterrows(), total=df.shape[0]):\n",
    "    df.at[idx, \"gpt_label_patient\"] = int(ast.literal_eval(row[\"gpt_response_patient\"])[\"Classification\"])\n",
    "    df.at[idx, \"gpt_label_dialog\"] = int(ast.literal_eval(row[\"gpt_response_dialog\"])[\"Classification\"])\n",
    "df[\"gpt_label_patient\"] = df[\"gpt_label_patient\"].astype(int)\n",
    "df[\"gpt_label_dialog\"] = df[\"gpt_label_dialog\"].astype(int)"
   ]
  },
  {
   "cell_type": "code",
   "execution_count": 4,
   "metadata": {},
   "outputs": [
    {
     "name": "stdout",
     "output_type": "stream",
     "text": [
      "Accuracy: 0.6666666666666666\n"
     ]
    },
    {
     "data": {
      "image/png": "[encoded data removed]",
      "text/plain": [
       "<Figure size 400x400 with 2 Axes>"
      ]
     },
     "metadata": {},
     "output_type": "display_data"
    }
   ],
   "source": [
    "from sklearn.metrics import confusion_matrix\n",
    "import seaborn as sns\n",
    "import matplotlib.pyplot as plt\n",
    "\n",
    "print(\"Accuracy:\", (df[\"label\"] == df[\"gpt_label_dialog\"]).mean())\n",
    "cm = confusion_matrix(df[\"label\"], df[\"gpt_label_dialog\"])\n",
    "plt.figure(figsize=(4,4))\n",
    "plt.rcParams.update({'font.size': 14})\n",
    "sns.heatmap(cm, annot=True, fmt='d', cmap='Blues', annot_kws={\"size\": 16})\n",
    "plt.xlabel('Predicted', fontsize=14)\n",
    "plt.ylabel('True', fontsize=14)\n",
    "plt.title('Confusion Matrix', fontsize=16)\n",
    "plt.show()\n"
   ]
  },
  {
   "cell_type": "code",
   "execution_count": 110,
   "metadata": {},
   "outputs": [],
   "source": [
    "df.to_csv(\"../data/gpt_response_first_try.csv\")"
   ]
  }
 ],
 "metadata": {
  "kernelspec": {
   "display_name": "capstone",
   "language": "python",
   "name": "python3"
  },
  "language_info": {
   "codemirror_mode": {
    "name": "ipython",
    "version": 3
   },
   "file_extension": ".py",
   "mimetype": "text/x-python",
   "name": "python",
   "nbconvert_exporter": "python",
   "pygments_lexer": "ipython3",
   "version": "3.11.10"
  }
 },
 "nbformat": 4,
 "nbformat_minor": 2
}
