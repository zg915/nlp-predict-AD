{
 "cells": [
  {
   "cell_type": "code",
   "execution_count": 46,
   "metadata": {},
   "outputs": [],
   "source": [
    "import pandas as pd\n",
    "from os import listdir\n",
    "import json"
   ]
  },
  {
   "cell_type": "code",
   "execution_count": 47,
   "metadata": {},
   "outputs": [],
   "source": [
    "def retrieve_concat_data(df, dir, label):\n",
    "    with open(dir, 'r') as file:\n",
    "        data = json.load(file)\n",
    "\n",
    "    # Extract conversations\n",
    "    conversations = [data[key] for key in data if key.startswith(\"conversation_\")]\n",
    "    example_index = data[\"example_index\"]\n",
    "\n",
    "    # Create the DataFrame with the same list of indices for each row\n",
    "    tmp_df = pd.DataFrame({\n",
    "        \"line\": conversations,\n",
    "        \"example_index\": [example_index] * len(conversations)\n",
    "    })\n",
    "    tmp_df[\"label\"] = label\n",
    "    df = pd.concat([df, tmp_df], ignore_index=True)\n",
    "    return df"
   ]
  },
  {
   "cell_type": "code",
   "execution_count": 48,
   "metadata": {},
   "outputs": [],
   "source": [
    "true_train = pd.read_csv(\"../data/train_v2_400.csv\", index_col = \"index\")\n",
    "true_train[\"example_index\"] = true_train.index"
   ]
  },
  {
   "cell_type": "code",
   "execution_count": 49,
   "metadata": {},
   "outputs": [],
   "source": [
    "path = \"../data/generated_patient_v1_200/\"\n",
    "patient_path = [path + f for f in listdir(path)]\n",
    "try: patient_path.remove(\".DS_Store\")\n",
    "except: pass"
   ]
  },
  {
   "cell_type": "code",
   "execution_count": 50,
   "metadata": {},
   "outputs": [],
   "source": [
    "path = \"../data/generated_control_v1_200/\"\n",
    "control_path = [path + f for f in listdir(path)]\n",
    "try: control_path.remove(\".DS_Store\")\n",
    "except: pass"
   ]
  },
  {
   "cell_type": "code",
   "execution_count": 51,
   "metadata": {},
   "outputs": [],
   "source": [
    "complete_train = true_train.copy(deep=True)\n",
    "for dir in patient_path:\n",
    "    complete_train = retrieve_concat_data(complete_train, dir, label = 1)\n",
    "\n",
    "for dir in control_path:\n",
    "    complete_train = retrieve_concat_data(complete_train, dir, label = 0)"
   ]
  },
  {
   "cell_type": "code",
   "execution_count": null,
   "metadata": {},
   "outputs": [],
   "source": [
    "record = set()\n",
    "for idx, row in complete_train.iterrows():\n",
    "    lines = row[\"line\"].split(\"\\n\")\n",
    "    cleaned_line = []\n",
    "    for line in lines:\n",
    "        record.add(line[:4])\n",
    "        if line[:4] == \"PAR:\":\n",
    "            cleaned_line.append(line[4:].strip())\n",
    "    complete_train.at[idx, \"line\"] = \"\\n\".join(cleaned_line)\n",
    "print(record)"
   ]
  },
  {
   "cell_type": "code",
   "execution_count": 54,
   "metadata": {},
   "outputs": [],
   "source": [
    "complete_train.to_csv(\"../data/train_complete_v1_800.csv\")"
   ]
  },
  {
   "cell_type": "code",
   "execution_count": 55,
   "metadata": {},
   "outputs": [],
   "source": [
    "true_test = pd.read_csv(\"../data/test_v2_149.csv\", index_col = \"index\")\n",
    "true_test[\"example_index\"] = true_test.index"
   ]
  },
  {
   "cell_type": "code",
   "execution_count": 57,
   "metadata": {},
   "outputs": [
    {
     "name": "stdout",
     "output_type": "stream",
     "text": [
      "{'PAR:', 'INV:'}\n"
     ]
    }
   ],
   "source": [
    "record = set()\n",
    "for idx, row in true_test.iterrows():\n",
    "    lines = row[\"line\"].split(\"\\n\")\n",
    "    cleaned_line = []\n",
    "    for line in lines:\n",
    "        record.add(line[:4])\n",
    "        if line[:4] == \"PAR:\":\n",
    "            cleaned_line.append(line[4:].strip())\n",
    "    true_test.at[idx, \"line\"] = \"\\n\".join(cleaned_line)\n",
    "print(record)"
   ]
  },
  {
   "cell_type": "code",
   "execution_count": 59,
   "metadata": {},
   "outputs": [],
   "source": [
    "true_test.to_csv(\"../data/test_complete_v1_149.csv\")"
   ]
  }
 ],
 "metadata": {
  "kernelspec": {
   "display_name": "capstone",
   "language": "python",
   "name": "python3"
  },
  "language_info": {
   "codemirror_mode": {
    "name": "ipython",
    "version": 3
   },
   "file_extension": ".py",
   "mimetype": "text/x-python",
   "name": "python",
   "nbconvert_exporter": "python",
   "pygments_lexer": "ipython3",
   "version": "3.11.10"
  }
 },
 "nbformat": 4,
 "nbformat_minor": 2
}
