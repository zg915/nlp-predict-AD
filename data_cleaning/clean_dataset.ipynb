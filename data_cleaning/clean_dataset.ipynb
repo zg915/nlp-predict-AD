{
 "cells": [
  {
   "cell_type": "code",
   "execution_count": 19,
   "metadata": {},
   "outputs": [],
   "source": [
    "import json\n",
    "import re\n",
    "\n",
    "with open('/Users/alan/Desktop/06 Capstone/raw_data_transform/cookie.json', 'r') as file:\n",
    "    data = json.load(file)"
   ]
  },
  {
   "cell_type": "code",
   "execution_count": 22,
   "metadata": {},
   "outputs": [],
   "source": [
    "def clean_string(s):\n",
    "    # 1. Remove [ ... ] unless it's [/ ] or [// ]\n",
    "    s = re.sub(r'\\[(?!/|\\//).*?\\]', '', s)\n",
    "\n",
    "    # 2. Remove < ... >\n",
    "    s = re.sub(r'<.*?>', '', s)\n",
    "\n",
    "    # 3. Remove \"&=\", \"&-\", \"&+\"\n",
    "    s = re.sub(r'&[=\\-\\+]', '', s)\n",
    "\n",
    "    # Remove \"+....\"\n",
    "    s = re.sub(r'\\+\\w*', '', s)\n",
    "\n",
    "    return s\n"
   ]
  },
  {
   "cell_type": "code",
   "execution_count": 29,
   "metadata": {},
   "outputs": [],
   "source": [
    "sentences_list = []\n",
    "\n",
    "for key in list(data.keys()):\n",
    "    # print(key)\n",
    "    if key == \"dementia\":\n",
    "        label = 1\n",
    "    else:\n",
    "        label = 0\n",
    "    group = data[key]\n",
    "    for file_key in data[key]:\n",
    "        # print(file_key)\n",
    "        file = group[file_key]\n",
    "        result = ''\n",
    "        lines = file['lines']\n",
    "        for line in lines:\n",
    "            if line['speaker'] == \"PAR\":\n",
    "                utter = clean_string(line['utterance'])\n",
    "                if result == '':\n",
    "                    result = utter  #first line in a file\n",
    "                else:\n",
    "                    result = result + \"\\n\" + utter #separator token\n",
    "        # print(result)\n",
    "        sentences_list.append({\"line\":result, \"label\": label})\n"
   ]
  },
  {
   "cell_type": "code",
   "execution_count": 30,
   "metadata": {},
   "outputs": [
    {
     "data": {
      "text/plain": [
       "True"
      ]
     },
     "execution_count": 30,
     "metadata": {},
     "output_type": "execute_result"
    }
   ],
   "source": [
    "len(sentences_list) == len(data[\"dementia\"]) + len(data[\"control\"])"
   ]
  },
  {
   "cell_type": "code",
   "execution_count": 32,
   "metadata": {},
   "outputs": [],
   "source": [
    "with open('cleaned_first_try.json', 'w', encoding='utf-8') as f:\n",
    "    json.dump(sentences_list, f, ensure_ascii=False, indent=2)"
   ]
  }
 ],
 "metadata": {
  "kernelspec": {
   "display_name": "capstone",
   "language": "python",
   "name": "python3"
  },
  "language_info": {
   "codemirror_mode": {
    "name": "ipython",
    "version": 3
   },
   "file_extension": ".py",
   "mimetype": "text/x-python",
   "name": "python",
   "nbconvert_exporter": "python",
   "pygments_lexer": "ipython3",
   "version": "3.11.10"
  }
 },
 "nbformat": 4,
 "nbformat_minor": 2
}
