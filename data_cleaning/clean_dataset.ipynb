{
 "cells": [
  {
   "cell_type": "code",
   "execution_count": 2,
   "metadata": {},
   "outputs": [],
   "source": [
    "import json\n",
    "import re\n",
    "\n",
    "with open('../data/dataset.json', 'r') as file:\n",
    "    data = json.load(file)"
   ]
  },
  {
   "cell_type": "code",
   "execution_count": 3,
   "metadata": {},
   "outputs": [],
   "source": [
    "def clean_string(s):\n",
    "    # 1. Remove [ ... ] unless it's [/ ] or [// ]\n",
    "    s = re.sub(r'\\[(?!/|\\//).*?\\]', '', s)\n",
    "\n",
    "    # 2. Remove < ... >\n",
    "    s = re.sub(r'<.*?>', '', s)\n",
    "\n",
    "    # 3. Remove \"&=\", \"&-\", \"&+\"\n",
    "    s = re.sub(r'&[=\\-\\+]', '', s)\n",
    "\n",
    "    # Remove \"+....\"\n",
    "    s = re.sub(r'\\+\\w*', '', s)\n",
    "\n",
    "    return s\n"
   ]
  },
  {
   "cell_type": "code",
   "execution_count": 12,
   "metadata": {},
   "outputs": [],
   "source": [
    "sentences_list = []\n",
    "\n",
    "for key in list(data.keys()):\n",
    "    # print(key)\n",
    "    if key == \"dementia\":\n",
    "        label = 1\n",
    "    else:\n",
    "        label = 0\n",
    "    group = data[key]\n",
    "    for file_key in data[key]:\n",
    "        # print(file_key)\n",
    "        file = group[file_key]\n",
    "        result = ''\n",
    "        lines = file['lines']\n",
    "        for line in lines:\n",
    "            if line['speaker'] == \"PAR\":\n",
    "                utter = clean_string(line['utterance'])\n",
    "                if result == '':\n",
    "                    result = utter  #first line in a file\n",
    "                else:\n",
    "                    result = result + \"\\n \" + utter #separator token\n",
    "        # print(result)\n",
    "        sentences_list.append({\"line\":result, \"label\": label})\n"
   ]
  },
  {
   "cell_type": "code",
   "execution_count": 13,
   "metadata": {},
   "outputs": [
    {
     "data": {
      "text/plain": [
       "True"
      ]
     },
     "execution_count": 13,
     "metadata": {},
     "output_type": "execute_result"
    }
   ],
   "source": [
    "len(sentences_list) == len(data[\"dementia\"]) + len(data[\"control\"])"
   ]
  },
  {
   "cell_type": "code",
   "execution_count": 14,
   "metadata": {},
   "outputs": [
    {
     "data": {
      "text/plain": [
       "{'line': \"(.) oh any [//] anything I see .  \\n well there's uh a little girl here . \\n (..) she's (..) pointing at something . \\n and that looks like uh (..) her mother   (.) is just about ready to [/] to fall down  [/] where she's sitting  there (.) where it says cookie jar .  \\n and here on her right side there's a young lady there . \\n she's uh washing the [//] (..) what she uh ... \\n she's cleaning /. \\n , the uh ... \\n she's cleaning . \\n what is she //?  \\n she ... \",\n",
       " 'label': 1}"
      ]
     },
     "execution_count": 14,
     "metadata": {},
     "output_type": "execute_result"
    }
   ],
   "source": [
    "sentences_list[0]"
   ]
  },
  {
   "cell_type": "code",
   "execution_count": 15,
   "metadata": {},
   "outputs": [],
   "source": [
    "with open('cleaned_first_try.json', 'w', encoding='utf-8') as f:\n",
    "    json.dump(sentences_list, f, ensure_ascii=False, indent=2)"
   ]
  },
  {
   "cell_type": "code",
   "execution_count": null,
   "metadata": {},
   "outputs": [],
   "source": []
  }
 ],
 "metadata": {
  "kernelspec": {
   "display_name": "base",
   "language": "python",
   "name": "python3"
  },
  "language_info": {
   "codemirror_mode": {
    "name": "ipython",
    "version": 3
   },
   "file_extension": ".py",
   "mimetype": "text/x-python",
   "name": "python",
   "nbconvert_exporter": "python",
   "pygments_lexer": "ipython3",
   "version": "3.11.5"
  }
 },
 "nbformat": 4,
 "nbformat_minor": 2
}
