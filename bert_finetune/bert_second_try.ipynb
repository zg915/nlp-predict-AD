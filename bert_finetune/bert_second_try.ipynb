{
 "cells": [
  {
   "cell_type": "code",
   "execution_count": 1,
   "metadata": {},
   "outputs": [],
   "source": [
    "import pandas as pd\n",
    "import os\n",
    "from transformers import AutoTokenizer\n",
    "from transformers import AutoModelForCausalLM, AutoModelForMaskedLM, AutoModelForSeq2SeqLM, AutoModelForSequenceClassification\n",
    "from tqdm.auto import tqdm\n",
    "import evaluate\n",
    "import torch\n",
    "from torch import nn\n",
    "from torch.utils.data import DataLoader\n",
    "from torch.optim import AdamW\n",
    "from transformers import get_scheduler\n",
    "import json\n",
    "from sklearn.model_selection import train_test_split\n",
    "\n",
    "from TextDataset import TextDataset\n",
    "from transformers import BertForSequenceClassification, BertConfig, BertTokenizer\n",
    "\n",
    "from matplotlib import pyplot as plt"
   ]
  },
  {
   "cell_type": "code",
   "execution_count": 2,
   "metadata": {},
   "outputs": [
    {
     "name": "stdout",
     "output_type": "stream",
     "text": [
      "mps\n"
     ]
    }
   ],
   "source": [
    "if torch.backends.mps.is_available():\n",
    "    device = torch.device(\"mps\")\n",
    "elif torch.cuda.is_available():\n",
    "    device = torch.device(\"cuda\")\n",
    "else:\n",
    "    device = torch.device(\"cpu\")\n",
    "print(device)"
   ]
  },
  {
   "cell_type": "code",
   "execution_count": 1,
   "metadata": {},
   "outputs": [
    {
     "name": "stderr",
     "output_type": "stream",
     "text": [
      "Some weights of BertForSequenceClassification were not initialized from the model checkpoint at bert-base-uncased and are newly initialized: ['classifier.bias', 'classifier.weight']\n",
      "You should probably TRAIN this model on a down-stream task to be able to use it for predictions and inference.\n"
     ]
    },
    {
     "name": "stdout",
     "output_type": "stream",
     "text": [
      "mps\n"
     ]
    },
    {
     "name": "stderr",
     "output_type": "stream",
     "text": [
      "/Users/alan/anaconda3/envs/capstone/lib/python3.11/site-packages/transformers/tokenization_utils_base.py:1601: FutureWarning: `clean_up_tokenization_spaces` was not set. It will be set to `True` by default. This behavior will be depracted in transformers v4.45, and will be then set to `False` by default. For more details check this issue: https://github.com/huggingface/transformers/issues/31884\n",
      "  warnings.warn(\n"
     ]
    },
    {
     "name": "stdout",
     "output_type": "stream",
     "text": [
      "(800, 3) (86, 5)\n",
      "num_epochs 50\n"
     ]
    },
    {
     "data": {
      "application/vnd.jupyter.widget-view+json": {
       "model_id": "3dbaedc8618840479f229d4adf632631",
       "version_major": 2,
       "version_minor": 0
      },
      "text/plain": [
       "  0%|          | 0/10000 [00:00<?, ?it/s]"
      ]
     },
     "metadata": {},
     "output_type": "display_data"
    },
    {
     "data": {
      "application/vnd.jupyter.widget-view+json": {
       "model_id": "6a9f60f6f6e546a7ab2cd1dfafe9bb6e",
       "version_major": 2,
       "version_minor": 0
      },
      "text/plain": [
       "  0%|          | 0/50 [00:00<?, ?it/s]"
      ]
     },
     "metadata": {},
     "output_type": "display_data"
    },
    {
     "name": "stdout",
     "output_type": "stream",
     "text": [
      "Epoch 1/50, Loss: 140.4180, Accuracy: 0.56, Learning Rate: 0.00000100\n",
      "Epoch 2/50, Loss: 129.0576, Accuracy: 0.70, Learning Rate: 0.00000200\n",
      "Epoch 3/50, Loss: 103.3430, Accuracy: 0.72, Learning Rate: 0.00000300\n",
      "Epoch 4/50, Loss: 92.9094, Accuracy: 0.77, Learning Rate: 0.00000400\n",
      "Epoch 5/50, Loss: 73.2468, Accuracy: 0.76, Learning Rate: 0.00000500\n",
      "Epoch 6/50, Loss: 61.1320, Accuracy: 0.74, Learning Rate: 0.00000489\n",
      "Epoch 7/50, Loss: 42.4121, Accuracy: 0.77, Learning Rate: 0.00000478\n",
      "Epoch 8/50, Loss: 31.1416, Accuracy: 0.76, Learning Rate: 0.00000467\n",
      "Epoch 9/50, Loss: 24.6619, Accuracy: 0.74, Learning Rate: 0.00000456\n",
      "Epoch 10/50, Loss: 15.6909, Accuracy: 0.76, Learning Rate: 0.00000444\n",
      "Epoch 11/50, Loss: 10.0567, Accuracy: 0.78, Learning Rate: 0.00000433\n",
      "Epoch 12/50, Loss: 8.3988, Accuracy: 0.77, Learning Rate: 0.00000422\n",
      "Epoch 13/50, Loss: 5.3452, Accuracy: 0.80, Learning Rate: 0.00000411\n",
      "Epoch 14/50, Loss: 4.2722, Accuracy: 0.81, Learning Rate: 0.00000400\n",
      "Epoch 15/50, Loss: 0.1609, Accuracy: 0.79, Learning Rate: 0.00000389\n",
      "Epoch 16/50, Loss: 4.5160, Accuracy: 0.79, Learning Rate: 0.00000378\n",
      "No improvement. Patience counter: 1/5\n",
      "Epoch 17/50, Loss: 1.7469, Accuracy: 0.79, Learning Rate: 0.00000367\n",
      "No improvement. Patience counter: 2/5\n",
      "Epoch 18/50, Loss: 2.3842, Accuracy: 0.80, Learning Rate: 0.00000356\n",
      "No improvement. Patience counter: 3/5\n",
      "Epoch 19/50, Loss: 3.9012, Accuracy: 0.80, Learning Rate: 0.00000344\n",
      "No improvement. Patience counter: 4/5\n",
      "Epoch 20/50, Loss: 0.0374, Accuracy: 0.79, Learning Rate: 0.00000333\n",
      "Epoch 21/50, Loss: 0.0227, Accuracy: 0.79, Learning Rate: 0.00000322\n",
      "Epoch 22/50, Loss: 0.0196, Accuracy: 0.79, Learning Rate: 0.00000311\n",
      "Epoch 23/50, Loss: 0.0173, Accuracy: 0.79, Learning Rate: 0.00000300\n",
      "Epoch 24/50, Loss: 0.0155, Accuracy: 0.79, Learning Rate: 0.00000289\n",
      "Epoch 25/50, Loss: 0.0142, Accuracy: 0.80, Learning Rate: 0.00000278\n",
      "Epoch 26/50, Loss: 0.0363, Accuracy: 0.77, Learning Rate: 0.00000267\n",
      "No improvement. Patience counter: 1/5\n",
      "Epoch 27/50, Loss: 3.4258, Accuracy: 0.74, Learning Rate: 0.00000256\n",
      "No improvement. Patience counter: 2/5\n",
      "Epoch 28/50, Loss: 4.5592, Accuracy: 0.79, Learning Rate: 0.00000244\n",
      "No improvement. Patience counter: 3/5\n",
      "Epoch 29/50, Loss: 1.9453, Accuracy: 0.81, Learning Rate: 0.00000233\n",
      "No improvement. Patience counter: 4/5\n",
      "Epoch 30/50, Loss: 2.0444, Accuracy: 0.81, Learning Rate: 0.00000222\n",
      "No improvement. Patience counter: 5/5\n",
      "Early stopping triggered.\n",
      "mps\n"
     ]
    },
    {
     "name": "stderr",
     "output_type": "stream",
     "text": [
      "Some weights of BertForSequenceClassification were not initialized from the model checkpoint at bert-base-uncased and are newly initialized: ['classifier.bias', 'classifier.weight']\n",
      "You should probably TRAIN this model on a down-stream task to be able to use it for predictions and inference.\n",
      "/Users/alan/anaconda3/envs/capstone/lib/python3.11/site-packages/transformers/tokenization_utils_base.py:1601: FutureWarning: `clean_up_tokenization_spaces` was not set. It will be set to `True` by default. This behavior will be depracted in transformers v4.45, and will be then set to `False` by default. For more details check this issue: https://github.com/huggingface/transformers/issues/31884\n",
      "  warnings.warn(\n"
     ]
    },
    {
     "name": "stdout",
     "output_type": "stream",
     "text": [
      "(1200, 3) (86, 5)\n",
      "num_epochs 50\n"
     ]
    },
    {
     "data": {
      "application/vnd.jupyter.widget-view+json": {
       "model_id": "eca7ed0e0c7847d1b5be0170a8a39366",
       "version_major": 2,
       "version_minor": 0
      },
      "text/plain": [
       "  0%|          | 0/15000 [00:00<?, ?it/s]"
      ]
     },
     "metadata": {},
     "output_type": "display_data"
    },
    {
     "data": {
      "application/vnd.jupyter.widget-view+json": {
       "model_id": "c023759b084245d4b299a665ad7c32c1",
       "version_major": 2,
       "version_minor": 0
      },
      "text/plain": [
       "  0%|          | 0/50 [00:00<?, ?it/s]"
      ]
     },
     "metadata": {},
     "output_type": "display_data"
    },
    {
     "name": "stdout",
     "output_type": "stream",
     "text": [
      "Epoch 1/50, Loss: 206.9853, Accuracy: 0.63, Learning Rate: 0.00000100\n",
      "Epoch 2/50, Loss: 190.8162, Accuracy: 0.74, Learning Rate: 0.00000200\n",
      "Epoch 3/50, Loss: 150.6551, Accuracy: 0.77, Learning Rate: 0.00000300\n",
      "Epoch 4/50, Loss: 131.0740, Accuracy: 0.81, Learning Rate: 0.00000400\n",
      "Epoch 5/50, Loss: 115.3223, Accuracy: 0.76, Learning Rate: 0.00000500\n",
      "Epoch 6/50, Loss: 87.1561, Accuracy: 0.79, Learning Rate: 0.00000489\n",
      "Epoch 7/50, Loss: 67.2675, Accuracy: 0.77, Learning Rate: 0.00000478\n",
      "Epoch 8/50, Loss: 31.8927, Accuracy: 0.81, Learning Rate: 0.00000467\n",
      "Epoch 9/50, Loss: 22.6614, Accuracy: 0.79, Learning Rate: 0.00000456\n",
      "Epoch 10/50, Loss: 15.1012, Accuracy: 0.83, Learning Rate: 0.00000444\n",
      "Epoch 11/50, Loss: 9.3496, Accuracy: 0.83, Learning Rate: 0.00000433\n",
      "Epoch 12/50, Loss: 10.4503, Accuracy: 0.83, Learning Rate: 0.00000422\n",
      "No improvement. Patience counter: 1/5\n",
      "Epoch 13/50, Loss: 4.4448, Accuracy: 0.80, Learning Rate: 0.00000411\n",
      "Epoch 14/50, Loss: 3.7298, Accuracy: 0.78, Learning Rate: 0.00000400\n",
      "Epoch 15/50, Loss: 9.5784, Accuracy: 0.80, Learning Rate: 0.00000389\n",
      "No improvement. Patience counter: 1/5\n",
      "Epoch 16/50, Loss: 9.9854, Accuracy: 0.78, Learning Rate: 0.00000378\n",
      "No improvement. Patience counter: 2/5\n",
      "Epoch 17/50, Loss: 7.1024, Accuracy: 0.77, Learning Rate: 0.00000367\n",
      "No improvement. Patience counter: 3/5\n",
      "Epoch 18/50, Loss: 6.3630, Accuracy: 0.81, Learning Rate: 0.00000356\n",
      "No improvement. Patience counter: 4/5\n",
      "Epoch 19/50, Loss: 6.8807, Accuracy: 0.81, Learning Rate: 0.00000344\n",
      "No improvement. Patience counter: 5/5\n",
      "Early stopping triggered.\n",
      "mps\n"
     ]
    },
    {
     "name": "stderr",
     "output_type": "stream",
     "text": [
      "Some weights of BertForSequenceClassification were not initialized from the model checkpoint at bert-base-uncased and are newly initialized: ['classifier.bias', 'classifier.weight']\n",
      "You should probably TRAIN this model on a down-stream task to be able to use it for predictions and inference.\n",
      "/Users/alan/anaconda3/envs/capstone/lib/python3.11/site-packages/transformers/tokenization_utils_base.py:1601: FutureWarning: `clean_up_tokenization_spaces` was not set. It will be set to `True` by default. This behavior will be depracted in transformers v4.45, and will be then set to `False` by default. For more details check this issue: https://github.com/huggingface/transformers/issues/31884\n",
      "  warnings.warn(\n"
     ]
    },
    {
     "name": "stdout",
     "output_type": "stream",
     "text": [
      "(1600, 3) (86, 5)\n",
      "num_epochs 50\n"
     ]
    },
    {
     "data": {
      "application/vnd.jupyter.widget-view+json": {
       "model_id": "1c8cebdf38924a29988d4aa0859d836d",
       "version_major": 2,
       "version_minor": 0
      },
      "text/plain": [
       "  0%|          | 0/20000 [00:00<?, ?it/s]"
      ]
     },
     "metadata": {},
     "output_type": "display_data"
    },
    {
     "data": {
      "application/vnd.jupyter.widget-view+json": {
       "model_id": "87f7b38dfd5d46c18ea69a59ce756a62",
       "version_major": 2,
       "version_minor": 0
      },
      "text/plain": [
       "  0%|          | 0/50 [00:00<?, ?it/s]"
      ]
     },
     "metadata": {},
     "output_type": "display_data"
    },
    {
     "name": "stdout",
     "output_type": "stream",
     "text": [
      "Epoch 1/50, Loss: 277.1521, Accuracy: 0.71, Learning Rate: 0.00000100\n",
      "Epoch 2/50, Loss: 242.9750, Accuracy: 0.69, Learning Rate: 0.00000200\n",
      "Epoch 3/50, Loss: 178.1995, Accuracy: 0.74, Learning Rate: 0.00000300\n",
      "Epoch 4/50, Loss: 133.0205, Accuracy: 0.78, Learning Rate: 0.00000400\n",
      "Epoch 5/50, Loss: 83.3438, Accuracy: 0.81, Learning Rate: 0.00000500\n",
      "Epoch 6/50, Loss: 46.0899, Accuracy: 0.78, Learning Rate: 0.00000489\n",
      "Epoch 7/50, Loss: 21.3974, Accuracy: 0.79, Learning Rate: 0.00000478\n",
      "Epoch 8/50, Loss: 5.4834, Accuracy: 0.80, Learning Rate: 0.00000467\n",
      "Epoch 9/50, Loss: 1.9716, Accuracy: 0.79, Learning Rate: 0.00000456\n",
      "Epoch 10/50, Loss: 3.8953, Accuracy: 0.78, Learning Rate: 0.00000444\n",
      "No improvement. Patience counter: 1/5\n",
      "Epoch 11/50, Loss: 0.0378, Accuracy: 0.79, Learning Rate: 0.00000433\n",
      "Epoch 12/50, Loss: 8.9805, Accuracy: 0.81, Learning Rate: 0.00000422\n",
      "No improvement. Patience counter: 1/5\n",
      "Epoch 13/50, Loss: 3.5534, Accuracy: 0.80, Learning Rate: 0.00000411\n",
      "No improvement. Patience counter: 2/5\n",
      "Epoch 14/50, Loss: 14.8527, Accuracy: 0.76, Learning Rate: 0.00000400\n",
      "No improvement. Patience counter: 3/5\n",
      "Epoch 15/50, Loss: 13.2351, Accuracy: 0.77, Learning Rate: 0.00000389\n",
      "No improvement. Patience counter: 4/5\n",
      "Epoch 16/50, Loss: 12.1377, Accuracy: 0.78, Learning Rate: 0.00000378\n",
      "No improvement. Patience counter: 5/5\n",
      "Early stopping triggered.\n",
      "mps\n"
     ]
    },
    {
     "name": "stderr",
     "output_type": "stream",
     "text": [
      "Some weights of BertForSequenceClassification were not initialized from the model checkpoint at bert-base-uncased and are newly initialized: ['classifier.bias', 'classifier.weight']\n",
      "You should probably TRAIN this model on a down-stream task to be able to use it for predictions and inference.\n",
      "/Users/alan/anaconda3/envs/capstone/lib/python3.11/site-packages/transformers/tokenization_utils_base.py:1601: FutureWarning: `clean_up_tokenization_spaces` was not set. It will be set to `True` by default. This behavior will be depracted in transformers v4.45, and will be then set to `False` by default. For more details check this issue: https://github.com/huggingface/transformers/issues/31884\n",
      "  warnings.warn(\n"
     ]
    },
    {
     "name": "stdout",
     "output_type": "stream",
     "text": [
      "(2000, 3) (86, 5)\n",
      "num_epochs 50\n"
     ]
    },
    {
     "data": {
      "application/vnd.jupyter.widget-view+json": {
       "model_id": "d026da12a3d34853816f3d51027cdcb7",
       "version_major": 2,
       "version_minor": 0
      },
      "text/plain": [
       "  0%|          | 0/25000 [00:00<?, ?it/s]"
      ]
     },
     "metadata": {},
     "output_type": "display_data"
    },
    {
     "data": {
      "application/vnd.jupyter.widget-view+json": {
       "model_id": "8520528865064d1e9d9a7c0858eaf8d8",
       "version_major": 2,
       "version_minor": 0
      },
      "text/plain": [
       "  0%|          | 0/50 [00:00<?, ?it/s]"
      ]
     },
     "metadata": {},
     "output_type": "display_data"
    },
    {
     "name": "stdout",
     "output_type": "stream",
     "text": [
      "Epoch 1/50, Loss: 341.9149, Accuracy: 0.69, Learning Rate: 0.00000100\n",
      "Epoch 2/50, Loss: 283.4325, Accuracy: 0.76, Learning Rate: 0.00000200\n",
      "Epoch 3/50, Loss: 201.7199, Accuracy: 0.77, Learning Rate: 0.00000300\n",
      "Epoch 4/50, Loss: 148.3268, Accuracy: 0.78, Learning Rate: 0.00000400\n",
      "Epoch 5/50, Loss: 90.7507, Accuracy: 0.80, Learning Rate: 0.00000500\n",
      "Epoch 6/50, Loss: 43.3521, Accuracy: 0.81, Learning Rate: 0.00000489\n",
      "Epoch 7/50, Loss: 12.7130, Accuracy: 0.81, Learning Rate: 0.00000478\n",
      "Epoch 8/50, Loss: 10.8235, Accuracy: 0.84, Learning Rate: 0.00000467\n",
      "Epoch 9/50, Loss: 9.7582, Accuracy: 0.76, Learning Rate: 0.00000456\n",
      "Epoch 10/50, Loss: 14.8208, Accuracy: 0.81, Learning Rate: 0.00000444\n",
      "No improvement. Patience counter: 1/5\n",
      "Epoch 11/50, Loss: 2.4198, Accuracy: 0.73, Learning Rate: 0.00000433\n",
      "Epoch 12/50, Loss: 16.9884, Accuracy: 0.77, Learning Rate: 0.00000422\n",
      "No improvement. Patience counter: 1/5\n",
      "Epoch 13/50, Loss: 3.4877, Accuracy: 0.80, Learning Rate: 0.00000411\n",
      "No improvement. Patience counter: 2/5\n",
      "Epoch 14/50, Loss: 6.7032, Accuracy: 0.80, Learning Rate: 0.00000400\n",
      "No improvement. Patience counter: 3/5\n",
      "Epoch 15/50, Loss: 12.8630, Accuracy: 0.79, Learning Rate: 0.00000389\n",
      "No improvement. Patience counter: 4/5\n"
     ]
    },
    {
     "name": "stderr",
     "output_type": "stream",
     "text": [
      "Some weights of BertForSequenceClassification were not initialized from the model checkpoint at bert-base-uncased and are newly initialized: ['classifier.bias', 'classifier.weight']\n",
      "You should probably TRAIN this model on a down-stream task to be able to use it for predictions and inference.\n"
     ]
    },
    {
     "name": "stdout",
     "output_type": "stream",
     "text": [
      "Epoch 16/50, Loss: 17.5620, Accuracy: 0.79, Learning Rate: 0.00000378\n",
      "No improvement. Patience counter: 5/5\n",
      "Early stopping triggered.\n",
      "mps\n"
     ]
    },
    {
     "name": "stderr",
     "output_type": "stream",
     "text": [
      "/Users/alan/anaconda3/envs/capstone/lib/python3.11/site-packages/transformers/tokenization_utils_base.py:1601: FutureWarning: `clean_up_tokenization_spaces` was not set. It will be set to `True` by default. This behavior will be depracted in transformers v4.45, and will be then set to `False` by default. For more details check this issue: https://github.com/huggingface/transformers/issues/31884\n",
      "  warnings.warn(\n"
     ]
    },
    {
     "name": "stdout",
     "output_type": "stream",
     "text": [
      "(2400, 3) (86, 5)\n",
      "num_epochs 50\n"
     ]
    },
    {
     "data": {
      "application/vnd.jupyter.widget-view+json": {
       "model_id": "78121557ff764275a875cf05de716f2b",
       "version_major": 2,
       "version_minor": 0
      },
      "text/plain": [
       "  0%|          | 0/30000 [00:00<?, ?it/s]"
      ]
     },
     "metadata": {},
     "output_type": "display_data"
    },
    {
     "data": {
      "application/vnd.jupyter.widget-view+json": {
       "model_id": "16c22184aa154cfe9135a251d3e9ce41",
       "version_major": 2,
       "version_minor": 0
      },
      "text/plain": [
       "  0%|          | 0/50 [00:00<?, ?it/s]"
      ]
     },
     "metadata": {},
     "output_type": "display_data"
    },
    {
     "name": "stdout",
     "output_type": "stream",
     "text": [
      "Epoch 1/50, Loss: 415.1383, Accuracy: 0.69, Learning Rate: 0.00000100\n",
      "Epoch 2/50, Loss: 314.7491, Accuracy: 0.73, Learning Rate: 0.00000200\n",
      "Epoch 3/50, Loss: 215.3113, Accuracy: 0.72, Learning Rate: 0.00000300\n",
      "Epoch 4/50, Loss: 154.2976, Accuracy: 0.76, Learning Rate: 0.00000400\n",
      "Epoch 5/50, Loss: 61.5541, Accuracy: 0.73, Learning Rate: 0.00000500\n",
      "Epoch 6/50, Loss: 37.7574, Accuracy: 0.78, Learning Rate: 0.00000489\n",
      "Epoch 7/50, Loss: 20.5580, Accuracy: 0.80, Learning Rate: 0.00000478\n",
      "Epoch 8/50, Loss: 3.2556, Accuracy: 0.74, Learning Rate: 0.00000467\n",
      "Epoch 9/50, Loss: 19.0255, Accuracy: 0.79, Learning Rate: 0.00000456\n",
      "No improvement. Patience counter: 1/5\n",
      "Epoch 10/50, Loss: 3.5600, Accuracy: 0.78, Learning Rate: 0.00000444\n",
      "No improvement. Patience counter: 2/5\n",
      "Epoch 11/50, Loss: 7.1690, Accuracy: 0.79, Learning Rate: 0.00000433\n",
      "No improvement. Patience counter: 3/5\n",
      "Epoch 12/50, Loss: 1.6962, Accuracy: 0.80, Learning Rate: 0.00000422\n",
      "Epoch 13/50, Loss: 2.5640, Accuracy: 0.78, Learning Rate: 0.00000411\n",
      "No improvement. Patience counter: 1/5\n",
      "Epoch 14/50, Loss: 15.0304, Accuracy: 0.78, Learning Rate: 0.00000400\n",
      "No improvement. Patience counter: 2/5\n",
      "Epoch 15/50, Loss: 16.9451, Accuracy: 0.77, Learning Rate: 0.00000389\n",
      "No improvement. Patience counter: 3/5\n",
      "Epoch 16/50, Loss: 0.4994, Accuracy: 0.77, Learning Rate: 0.00000378\n",
      "Epoch 17/50, Loss: 4.1564, Accuracy: 0.80, Learning Rate: 0.00000367\n",
      "No improvement. Patience counter: 1/5\n",
      "Epoch 18/50, Loss: 8.4726, Accuracy: 0.72, Learning Rate: 0.00000356\n",
      "No improvement. Patience counter: 2/5\n",
      "Epoch 19/50, Loss: 0.0054, Accuracy: 0.78, Learning Rate: 0.00000344\n",
      "Epoch 20/50, Loss: 4.3120, Accuracy: 0.77, Learning Rate: 0.00000333\n",
      "No improvement. Patience counter: 1/5\n",
      "Epoch 21/50, Loss: 0.0033, Accuracy: 0.78, Learning Rate: 0.00000322\n",
      "Epoch 22/50, Loss: 2.6032, Accuracy: 0.76, Learning Rate: 0.00000311\n",
      "No improvement. Patience counter: 1/5\n",
      "Epoch 23/50, Loss: 5.6548, Accuracy: 0.77, Learning Rate: 0.00000300\n",
      "No improvement. Patience counter: 2/5\n",
      "Epoch 24/50, Loss: 0.0012, Accuracy: 0.78, Learning Rate: 0.00000289\n",
      "Epoch 25/50, Loss: 7.0512, Accuracy: 0.77, Learning Rate: 0.00000278\n",
      "No improvement. Patience counter: 1/5\n",
      "Epoch 26/50, Loss: 1.1386, Accuracy: 0.79, Learning Rate: 0.00000267\n",
      "No improvement. Patience counter: 2/5\n",
      "Epoch 27/50, Loss: 4.4455, Accuracy: 0.76, Learning Rate: 0.00000256\n",
      "No improvement. Patience counter: 3/5\n",
      "Epoch 28/50, Loss: 4.3186, Accuracy: 0.72, Learning Rate: 0.00000244\n",
      "No improvement. Patience counter: 4/5\n",
      "Epoch 29/50, Loss: 3.0668, Accuracy: 0.73, Learning Rate: 0.00000233\n",
      "No improvement. Patience counter: 5/5\n",
      "Early stopping triggered.\n",
      "mps\n"
     ]
    },
    {
     "name": "stderr",
     "output_type": "stream",
     "text": [
      "Some weights of BertForSequenceClassification were not initialized from the model checkpoint at bert-base-uncased and are newly initialized: ['classifier.bias', 'classifier.weight']\n",
      "You should probably TRAIN this model on a down-stream task to be able to use it for predictions and inference.\n",
      "/Users/alan/anaconda3/envs/capstone/lib/python3.11/site-packages/transformers/tokenization_utils_base.py:1601: FutureWarning: `clean_up_tokenization_spaces` was not set. It will be set to `True` by default. This behavior will be depracted in transformers v4.45, and will be then set to `False` by default. For more details check this issue: https://github.com/huggingface/transformers/issues/31884\n",
      "  warnings.warn(\n"
     ]
    },
    {
     "name": "stdout",
     "output_type": "stream",
     "text": [
      "(2800, 3) (86, 5)\n",
      "num_epochs 50\n"
     ]
    },
    {
     "data": {
      "application/vnd.jupyter.widget-view+json": {
       "model_id": "460900200b194704ba772719dca647d3",
       "version_major": 2,
       "version_minor": 0
      },
      "text/plain": [
       "  0%|          | 0/35000 [00:00<?, ?it/s]"
      ]
     },
     "metadata": {},
     "output_type": "display_data"
    },
    {
     "data": {
      "application/vnd.jupyter.widget-view+json": {
       "model_id": "214628f0192e430f922f3b580f2468a1",
       "version_major": 2,
       "version_minor": 0
      },
      "text/plain": [
       "  0%|          | 0/50 [00:00<?, ?it/s]"
      ]
     },
     "metadata": {},
     "output_type": "display_data"
    },
    {
     "name": "stdout",
     "output_type": "stream",
     "text": [
      "Epoch 1/50, Loss: 476.0063, Accuracy: 0.66, Learning Rate: 0.00000100\n",
      "Epoch 2/50, Loss: 374.4086, Accuracy: 0.73, Learning Rate: 0.00000200\n",
      "Epoch 3/50, Loss: 282.7456, Accuracy: 0.78, Learning Rate: 0.00000300\n",
      "Epoch 4/50, Loss: 201.7153, Accuracy: 0.77, Learning Rate: 0.00000400\n",
      "Epoch 5/50, Loss: 84.7679, Accuracy: 0.78, Learning Rate: 0.00000500\n",
      "Epoch 6/50, Loss: 36.1207, Accuracy: 0.76, Learning Rate: 0.00000489\n",
      "Epoch 7/50, Loss: 37.8837, Accuracy: 0.73, Learning Rate: 0.00000478\n",
      "No improvement. Patience counter: 1/5\n",
      "Epoch 8/50, Loss: 13.4657, Accuracy: 0.78, Learning Rate: 0.00000467\n",
      "Epoch 9/50, Loss: 11.2674, Accuracy: 0.79, Learning Rate: 0.00000456\n",
      "Epoch 10/50, Loss: 19.4262, Accuracy: 0.76, Learning Rate: 0.00000444\n",
      "No improvement. Patience counter: 1/5\n",
      "Epoch 11/50, Loss: 15.2733, Accuracy: 0.73, Learning Rate: 0.00000433\n",
      "No improvement. Patience counter: 2/5\n",
      "Epoch 12/50, Loss: 12.2892, Accuracy: 0.67, Learning Rate: 0.00000422\n",
      "No improvement. Patience counter: 3/5\n",
      "Epoch 13/50, Loss: 14.2146, Accuracy: 0.78, Learning Rate: 0.00000411\n",
      "No improvement. Patience counter: 4/5\n",
      "Epoch 14/50, Loss: 14.8041, Accuracy: 0.80, Learning Rate: 0.00000400\n",
      "No improvement. Patience counter: 5/5\n",
      "Early stopping triggered.\n",
      "mps\n"
     ]
    },
    {
     "name": "stderr",
     "output_type": "stream",
     "text": [
      "Some weights of BertForSequenceClassification were not initialized from the model checkpoint at bert-base-uncased and are newly initialized: ['classifier.bias', 'classifier.weight']\n",
      "You should probably TRAIN this model on a down-stream task to be able to use it for predictions and inference.\n",
      "/Users/alan/anaconda3/envs/capstone/lib/python3.11/site-packages/transformers/tokenization_utils_base.py:1601: FutureWarning: `clean_up_tokenization_spaces` was not set. It will be set to `True` by default. This behavior will be depracted in transformers v4.45, and will be then set to `False` by default. For more details check this issue: https://github.com/huggingface/transformers/issues/31884\n",
      "  warnings.warn(\n"
     ]
    },
    {
     "name": "stdout",
     "output_type": "stream",
     "text": [
      "(3200, 3) (86, 5)\n",
      "num_epochs 50\n"
     ]
    },
    {
     "data": {
      "application/vnd.jupyter.widget-view+json": {
       "model_id": "acff58af81c649e88546e679bc615dbd",
       "version_major": 2,
       "version_minor": 0
      },
      "text/plain": [
       "  0%|          | 0/40000 [00:00<?, ?it/s]"
      ]
     },
     "metadata": {},
     "output_type": "display_data"
    },
    {
     "data": {
      "application/vnd.jupyter.widget-view+json": {
       "model_id": "45ad0bc624cd47778d5974501a749466",
       "version_major": 2,
       "version_minor": 0
      },
      "text/plain": [
       "  0%|          | 0/50 [00:00<?, ?it/s]"
      ]
     },
     "metadata": {},
     "output_type": "display_data"
    },
    {
     "name": "stdout",
     "output_type": "stream",
     "text": [
      "Epoch 1/50, Loss: 539.2783, Accuracy: 0.79, Learning Rate: 0.00000100\n",
      "Epoch 2/50, Loss: 383.5781, Accuracy: 0.77, Learning Rate: 0.00000200\n",
      "Epoch 3/50, Loss: 246.4083, Accuracy: 0.77, Learning Rate: 0.00000300\n",
      "Epoch 4/50, Loss: 133.8383, Accuracy: 0.73, Learning Rate: 0.00000400\n",
      "Epoch 5/50, Loss: 64.3514, Accuracy: 0.78, Learning Rate: 0.00000500\n",
      "Epoch 6/50, Loss: 32.1910, Accuracy: 0.76, Learning Rate: 0.00000489\n",
      "Epoch 7/50, Loss: 17.9336, Accuracy: 0.73, Learning Rate: 0.00000478\n",
      "Epoch 8/50, Loss: 13.1971, Accuracy: 0.77, Learning Rate: 0.00000467\n",
      "Epoch 9/50, Loss: 16.7148, Accuracy: 0.77, Learning Rate: 0.00000456\n",
      "No improvement. Patience counter: 1/5\n",
      "Epoch 10/50, Loss: 23.9973, Accuracy: 0.76, Learning Rate: 0.00000444\n",
      "No improvement. Patience counter: 2/5\n",
      "Epoch 11/50, Loss: 0.9799, Accuracy: 0.78, Learning Rate: 0.00000433\n",
      "Epoch 12/50, Loss: 17.5757, Accuracy: 0.78, Learning Rate: 0.00000422\n",
      "No improvement. Patience counter: 1/5\n",
      "Epoch 13/50, Loss: 12.7256, Accuracy: 0.70, Learning Rate: 0.00000411\n",
      "No improvement. Patience counter: 2/5\n",
      "Epoch 14/50, Loss: 2.5235, Accuracy: 0.77, Learning Rate: 0.00000400\n",
      "No improvement. Patience counter: 3/5\n",
      "Epoch 15/50, Loss: 0.0059, Accuracy: 0.77, Learning Rate: 0.00000389\n",
      "Epoch 16/50, Loss: 18.1924, Accuracy: 0.79, Learning Rate: 0.00000378\n",
      "No improvement. Patience counter: 1/5\n",
      "Epoch 17/50, Loss: 13.5825, Accuracy: 0.76, Learning Rate: 0.00000367\n",
      "No improvement. Patience counter: 2/5\n",
      "Epoch 18/50, Loss: 0.3242, Accuracy: 0.77, Learning Rate: 0.00000356\n",
      "No improvement. Patience counter: 3/5\n",
      "Epoch 19/50, Loss: 5.5977, Accuracy: 0.78, Learning Rate: 0.00000344\n",
      "No improvement. Patience counter: 4/5\n",
      "Epoch 20/50, Loss: 9.1149, Accuracy: 0.76, Learning Rate: 0.00000333\n",
      "No improvement. Patience counter: 5/5\n",
      "Early stopping triggered.\n",
      "mps\n"
     ]
    },
    {
     "name": "stderr",
     "output_type": "stream",
     "text": [
      "Some weights of BertForSequenceClassification were not initialized from the model checkpoint at bert-base-uncased and are newly initialized: ['classifier.bias', 'classifier.weight']\n",
      "You should probably TRAIN this model on a down-stream task to be able to use it for predictions and inference.\n",
      "/Users/alan/anaconda3/envs/capstone/lib/python3.11/site-packages/transformers/tokenization_utils_base.py:1601: FutureWarning: `clean_up_tokenization_spaces` was not set. It will be set to `True` by default. This behavior will be depracted in transformers v4.45, and will be then set to `False` by default. For more details check this issue: https://github.com/huggingface/transformers/issues/31884\n",
      "  warnings.warn(\n"
     ]
    },
    {
     "name": "stdout",
     "output_type": "stream",
     "text": [
      "(3600, 3) (86, 5)\n",
      "num_epochs 50\n"
     ]
    },
    {
     "data": {
      "application/vnd.jupyter.widget-view+json": {
       "model_id": "227eb2ae83494f82817d6c9324bb5cdb",
       "version_major": 2,
       "version_minor": 0
      },
      "text/plain": [
       "  0%|          | 0/45000 [00:00<?, ?it/s]"
      ]
     },
     "metadata": {},
     "output_type": "display_data"
    },
    {
     "data": {
      "application/vnd.jupyter.widget-view+json": {
       "model_id": "c67bfc12bd96452d8209f452ac8d3fd1",
       "version_major": 2,
       "version_minor": 0
      },
      "text/plain": [
       "  0%|          | 0/50 [00:00<?, ?it/s]"
      ]
     },
     "metadata": {},
     "output_type": "display_data"
    },
    {
     "name": "stdout",
     "output_type": "stream",
     "text": [
      "Epoch 1/50, Loss: 594.5876, Accuracy: 0.73, Learning Rate: 0.00000100\n",
      "Epoch 2/50, Loss: 409.7688, Accuracy: 0.70, Learning Rate: 0.00000200\n",
      "Epoch 3/50, Loss: 231.5440, Accuracy: 0.73, Learning Rate: 0.00000300\n",
      "Epoch 4/50, Loss: 126.3211, Accuracy: 0.74, Learning Rate: 0.00000400\n",
      "Epoch 5/50, Loss: 72.0467, Accuracy: 0.73, Learning Rate: 0.00000500\n",
      "Epoch 6/50, Loss: 39.2175, Accuracy: 0.74, Learning Rate: 0.00000489\n",
      "Epoch 7/50, Loss: 20.4795, Accuracy: 0.76, Learning Rate: 0.00000478\n",
      "Epoch 8/50, Loss: 8.4884, Accuracy: 0.78, Learning Rate: 0.00000467\n",
      "Epoch 9/50, Loss: 11.7885, Accuracy: 0.73, Learning Rate: 0.00000456\n",
      "No improvement. Patience counter: 1/5\n",
      "Epoch 10/50, Loss: 13.6621, Accuracy: 0.73, Learning Rate: 0.00000444\n",
      "No improvement. Patience counter: 2/5\n",
      "Epoch 11/50, Loss: 6.9855, Accuracy: 0.78, Learning Rate: 0.00000433\n",
      "Epoch 12/50, Loss: 13.1085, Accuracy: 0.79, Learning Rate: 0.00000422\n",
      "No improvement. Patience counter: 1/5\n",
      "Epoch 13/50, Loss: 26.7054, Accuracy: 0.76, Learning Rate: 0.00000411\n",
      "No improvement. Patience counter: 2/5\n",
      "Epoch 14/50, Loss: 8.5624, Accuracy: 0.72, Learning Rate: 0.00000400\n",
      "No improvement. Patience counter: 3/5\n",
      "Epoch 15/50, Loss: 4.9537, Accuracy: 0.72, Learning Rate: 0.00000389\n",
      "Epoch 16/50, Loss: 0.7060, Accuracy: 0.74, Learning Rate: 0.00000378\n",
      "Epoch 17/50, Loss: 11.3960, Accuracy: 0.74, Learning Rate: 0.00000367\n",
      "No improvement. Patience counter: 1/5\n",
      "Epoch 18/50, Loss: 1.5420, Accuracy: 0.74, Learning Rate: 0.00000356\n",
      "No improvement. Patience counter: 2/5\n",
      "Epoch 19/50, Loss: 20.7837, Accuracy: 0.73, Learning Rate: 0.00000344\n",
      "No improvement. Patience counter: 3/5\n",
      "Epoch 20/50, Loss: 0.5799, Accuracy: 0.76, Learning Rate: 0.00000333\n",
      "Epoch 21/50, Loss: 0.0017, Accuracy: 0.77, Learning Rate: 0.00000322\n",
      "Epoch 22/50, Loss: 13.0727, Accuracy: 0.76, Learning Rate: 0.00000311\n",
      "No improvement. Patience counter: 1/5\n",
      "Epoch 23/50, Loss: 6.8888, Accuracy: 0.76, Learning Rate: 0.00000300\n",
      "No improvement. Patience counter: 2/5\n",
      "Epoch 24/50, Loss: 1.6239, Accuracy: 0.74, Learning Rate: 0.00000289\n",
      "No improvement. Patience counter: 3/5\n",
      "Epoch 25/50, Loss: 0.8089, Accuracy: 0.77, Learning Rate: 0.00000278\n",
      "No improvement. Patience counter: 4/5\n",
      "Epoch 26/50, Loss: 0.0008, Accuracy: 0.77, Learning Rate: 0.00000267\n",
      "Epoch 27/50, Loss: 0.0006, Accuracy: 0.78, Learning Rate: 0.00000256\n",
      "Epoch 28/50, Loss: 0.0005, Accuracy: 0.78, Learning Rate: 0.00000244\n",
      "Epoch 29/50, Loss: 0.0004, Accuracy: 0.79, Learning Rate: 0.00000233\n",
      "Epoch 30/50, Loss: 14.4244, Accuracy: 0.74, Learning Rate: 0.00000222\n",
      "No improvement. Patience counter: 1/5\n",
      "Epoch 31/50, Loss: 0.0007, Accuracy: 0.76, Learning Rate: 0.00000211\n",
      "No improvement. Patience counter: 2/5\n",
      "Epoch 32/50, Loss: 0.0314, Accuracy: 0.77, Learning Rate: 0.00000200\n",
      "No improvement. Patience counter: 3/5\n",
      "Epoch 33/50, Loss: 0.0005, Accuracy: 0.77, Learning Rate: 0.00000189\n",
      "No improvement. Patience counter: 4/5\n",
      "Epoch 34/50, Loss: 3.8595, Accuracy: 0.76, Learning Rate: 0.00000178\n",
      "No improvement. Patience counter: 5/5\n",
      "Early stopping triggered.\n",
      "mps\n"
     ]
    },
    {
     "name": "stderr",
     "output_type": "stream",
     "text": [
      "Some weights of BertForSequenceClassification were not initialized from the model checkpoint at bert-base-uncased and are newly initialized: ['classifier.bias', 'classifier.weight']\n",
      "You should probably TRAIN this model on a down-stream task to be able to use it for predictions and inference.\n",
      "/Users/alan/anaconda3/envs/capstone/lib/python3.11/site-packages/transformers/tokenization_utils_base.py:1601: FutureWarning: `clean_up_tokenization_spaces` was not set. It will be set to `True` by default. This behavior will be depracted in transformers v4.45, and will be then set to `False` by default. For more details check this issue: https://github.com/huggingface/transformers/issues/31884\n",
      "  warnings.warn(\n"
     ]
    },
    {
     "name": "stdout",
     "output_type": "stream",
     "text": [
      "(4000, 3) (86, 5)\n",
      "num_epochs 50\n"
     ]
    },
    {
     "data": {
      "application/vnd.jupyter.widget-view+json": {
       "model_id": "453466c87f564213b0bd2284eb8e61a3",
       "version_major": 2,
       "version_minor": 0
      },
      "text/plain": [
       "  0%|          | 0/50000 [00:00<?, ?it/s]"
      ]
     },
     "metadata": {},
     "output_type": "display_data"
    },
    {
     "data": {
      "application/vnd.jupyter.widget-view+json": {
       "model_id": "d707557d14d8438393057fb94566e104",
       "version_major": 2,
       "version_minor": 0
      },
      "text/plain": [
       "  0%|          | 0/50 [00:00<?, ?it/s]"
      ]
     },
     "metadata": {},
     "output_type": "display_data"
    },
    {
     "name": "stdout",
     "output_type": "stream",
     "text": [
      "Epoch 1/50, Loss: 647.9188, Accuracy: 0.76, Learning Rate: 0.00000100\n",
      "Epoch 2/50, Loss: 446.0151, Accuracy: 0.77, Learning Rate: 0.00000200\n",
      "Epoch 3/50, Loss: 295.4347, Accuracy: 0.77, Learning Rate: 0.00000300\n",
      "Epoch 4/50, Loss: 146.9892, Accuracy: 0.76, Learning Rate: 0.00000400\n",
      "Epoch 5/50, Loss: 54.9712, Accuracy: 0.79, Learning Rate: 0.00000500\n",
      "Epoch 6/50, Loss: 46.4594, Accuracy: 0.79, Learning Rate: 0.00000489\n",
      "Epoch 7/50, Loss: 14.2024, Accuracy: 0.78, Learning Rate: 0.00000478\n",
      "Epoch 8/50, Loss: 18.6727, Accuracy: 0.83, Learning Rate: 0.00000467\n",
      "No improvement. Patience counter: 1/5\n",
      "Epoch 9/50, Loss: 24.4601, Accuracy: 0.79, Learning Rate: 0.00000456\n",
      "No improvement. Patience counter: 2/5\n",
      "Epoch 10/50, Loss: 7.4255, Accuracy: 0.79, Learning Rate: 0.00000444\n",
      "Epoch 11/50, Loss: 10.9906, Accuracy: 0.73, Learning Rate: 0.00000433\n",
      "No improvement. Patience counter: 1/5\n",
      "Epoch 12/50, Loss: 12.0920, Accuracy: 0.74, Learning Rate: 0.00000422\n",
      "No improvement. Patience counter: 2/5\n",
      "Epoch 13/50, Loss: 20.3540, Accuracy: 0.78, Learning Rate: 0.00000411\n",
      "No improvement. Patience counter: 3/5\n",
      "Epoch 14/50, Loss: 13.1420, Accuracy: 0.76, Learning Rate: 0.00000400\n",
      "No improvement. Patience counter: 4/5\n",
      "Epoch 15/50, Loss: 6.4849, Accuracy: 0.77, Learning Rate: 0.00000389\n",
      "Epoch 16/50, Loss: 0.0032, Accuracy: 0.78, Learning Rate: 0.00000378\n",
      "Epoch 17/50, Loss: 0.0020, Accuracy: 0.76, Learning Rate: 0.00000367\n",
      "Epoch 18/50, Loss: 17.5266, Accuracy: 0.73, Learning Rate: 0.00000356\n",
      "No improvement. Patience counter: 1/5\n",
      "Epoch 19/50, Loss: 6.2528, Accuracy: 0.80, Learning Rate: 0.00000344\n",
      "No improvement. Patience counter: 2/5\n",
      "Epoch 20/50, Loss: 4.9681, Accuracy: 0.83, Learning Rate: 0.00000333\n",
      "No improvement. Patience counter: 3/5\n",
      "Epoch 21/50, Loss: 0.0014, Accuracy: 0.74, Learning Rate: 0.00000322\n",
      "Epoch 22/50, Loss: 0.0009, Accuracy: 0.77, Learning Rate: 0.00000311\n",
      "Epoch 23/50, Loss: 2.5582, Accuracy: 0.76, Learning Rate: 0.00000300\n",
      "No improvement. Patience counter: 1/5\n",
      "Epoch 24/50, Loss: 18.6136, Accuracy: 0.73, Learning Rate: 0.00000289\n",
      "No improvement. Patience counter: 2/5\n",
      "Epoch 25/50, Loss: 0.0389, Accuracy: 0.73, Learning Rate: 0.00000278\n",
      "No improvement. Patience counter: 3/5\n",
      "Epoch 26/50, Loss: 7.5628, Accuracy: 0.76, Learning Rate: 0.00000267\n",
      "No improvement. Patience counter: 4/5\n",
      "Epoch 27/50, Loss: 0.0010, Accuracy: 0.74, Learning Rate: 0.00000256\n",
      "No improvement. Patience counter: 5/5\n",
      "Early stopping triggered.\n",
      "mps\n"
     ]
    },
    {
     "name": "stderr",
     "output_type": "stream",
     "text": [
      "Some weights of BertForSequenceClassification were not initialized from the model checkpoint at bert-base-uncased and are newly initialized: ['classifier.bias', 'classifier.weight']\n",
      "You should probably TRAIN this model on a down-stream task to be able to use it for predictions and inference.\n",
      "/Users/alan/anaconda3/envs/capstone/lib/python3.11/site-packages/transformers/tokenization_utils_base.py:1601: FutureWarning: `clean_up_tokenization_spaces` was not set. It will be set to `True` by default. This behavior will be depracted in transformers v4.45, and will be then set to `False` by default. For more details check this issue: https://github.com/huggingface/transformers/issues/31884\n",
      "  warnings.warn(\n"
     ]
    },
    {
     "name": "stdout",
     "output_type": "stream",
     "text": [
      "(4400, 3) (86, 5)\n",
      "num_epochs 50\n"
     ]
    },
    {
     "data": {
      "application/vnd.jupyter.widget-view+json": {
       "model_id": "e2ae0daddfb34e5ba5dc69e203db48ad",
       "version_major": 2,
       "version_minor": 0
      },
      "text/plain": [
       "  0%|          | 0/55000 [00:00<?, ?it/s]"
      ]
     },
     "metadata": {},
     "output_type": "display_data"
    },
    {
     "data": {
      "application/vnd.jupyter.widget-view+json": {
       "model_id": "286914a310f24b2e939da9d917c88169",
       "version_major": 2,
       "version_minor": 0
      },
      "text/plain": [
       "  0%|          | 0/50 [00:00<?, ?it/s]"
      ]
     },
     "metadata": {},
     "output_type": "display_data"
    },
    {
     "name": "stdout",
     "output_type": "stream",
     "text": [
      "Epoch 1/50, Loss: 695.9362, Accuracy: 0.76, Learning Rate: 0.00000100\n",
      "Epoch 2/50, Loss: 468.9928, Accuracy: 0.76, Learning Rate: 0.00000200\n",
      "Epoch 3/50, Loss: 293.2599, Accuracy: 0.76, Learning Rate: 0.00000300\n",
      "Epoch 4/50, Loss: 109.4990, Accuracy: 0.73, Learning Rate: 0.00000400\n",
      "Epoch 5/50, Loss: 61.7373, Accuracy: 0.74, Learning Rate: 0.00000500\n",
      "Epoch 6/50, Loss: 35.4021, Accuracy: 0.80, Learning Rate: 0.00000489\n",
      "Epoch 7/50, Loss: 33.9111, Accuracy: 0.80, Learning Rate: 0.00000478\n",
      "Epoch 8/50, Loss: 23.1958, Accuracy: 0.78, Learning Rate: 0.00000467\n",
      "Epoch 9/50, Loss: 28.3301, Accuracy: 0.77, Learning Rate: 0.00000456\n",
      "No improvement. Patience counter: 1/5\n",
      "Epoch 10/50, Loss: 25.3678, Accuracy: 0.77, Learning Rate: 0.00000444\n",
      "No improvement. Patience counter: 2/5\n",
      "Epoch 11/50, Loss: 7.7299, Accuracy: 0.83, Learning Rate: 0.00000433\n",
      "Epoch 12/50, Loss: 21.0097, Accuracy: 0.77, Learning Rate: 0.00000422\n",
      "No improvement. Patience counter: 1/5\n",
      "Epoch 13/50, Loss: 4.8573, Accuracy: 0.74, Learning Rate: 0.00000411\n",
      "Epoch 14/50, Loss: 7.6384, Accuracy: 0.76, Learning Rate: 0.00000400\n",
      "No improvement. Patience counter: 1/5\n",
      "Epoch 15/50, Loss: 7.8962, Accuracy: 0.73, Learning Rate: 0.00000389\n",
      "No improvement. Patience counter: 2/5\n",
      "Epoch 16/50, Loss: 7.6323, Accuracy: 0.77, Learning Rate: 0.00000378\n",
      "No improvement. Patience counter: 3/5\n",
      "Epoch 17/50, Loss: 0.0021, Accuracy: 0.78, Learning Rate: 0.00000367\n",
      "Epoch 18/50, Loss: 17.1164, Accuracy: 0.74, Learning Rate: 0.00000356\n",
      "No improvement. Patience counter: 1/5\n",
      "Epoch 19/50, Loss: 12.2323, Accuracy: 0.77, Learning Rate: 0.00000344\n",
      "No improvement. Patience counter: 2/5\n",
      "Epoch 20/50, Loss: 9.2140, Accuracy: 0.77, Learning Rate: 0.00000333\n",
      "No improvement. Patience counter: 3/5\n",
      "Epoch 21/50, Loss: 0.0020, Accuracy: 0.78, Learning Rate: 0.00000322\n",
      "Epoch 22/50, Loss: 0.0016, Accuracy: 0.78, Learning Rate: 0.00000311\n",
      "Epoch 23/50, Loss: 0.0009, Accuracy: 0.78, Learning Rate: 0.00000300\n",
      "Epoch 24/50, Loss: 0.0006, Accuracy: 0.78, Learning Rate: 0.00000289\n",
      "Epoch 25/50, Loss: 0.0004, Accuracy: 0.78, Learning Rate: 0.00000278\n",
      "Epoch 26/50, Loss: 0.0003, Accuracy: 0.78, Learning Rate: 0.00000267\n",
      "Epoch 27/50, Loss: 0.0002, Accuracy: 0.78, Learning Rate: 0.00000256\n",
      "Epoch 28/50, Loss: 0.0001, Accuracy: 0.78, Learning Rate: 0.00000244\n",
      "Epoch 29/50, Loss: 0.0001, Accuracy: 0.78, Learning Rate: 0.00000233\n",
      "Epoch 30/50, Loss: 0.0000, Accuracy: 0.78, Learning Rate: 0.00000222\n",
      "Epoch 31/50, Loss: 0.0000, Accuracy: 0.78, Learning Rate: 0.00000211\n",
      "Epoch 32/50, Loss: 0.0000, Accuracy: 0.78, Learning Rate: 0.00000200\n",
      "Epoch 33/50, Loss: 0.0000, Accuracy: 0.78, Learning Rate: 0.00000189\n",
      "Epoch 34/50, Loss: 0.0000, Accuracy: 0.78, Learning Rate: 0.00000178\n",
      "Epoch 35/50, Loss: 0.0000, Accuracy: 0.78, Learning Rate: 0.00000167\n",
      "No improvement. Patience counter: 1/5\n",
      "Epoch 36/50, Loss: 13.7747, Accuracy: 0.81, Learning Rate: 0.00000156\n",
      "No improvement. Patience counter: 2/5\n",
      "Epoch 37/50, Loss: 0.5979, Accuracy: 0.79, Learning Rate: 0.00000144\n",
      "No improvement. Patience counter: 3/5\n",
      "Epoch 38/50, Loss: 0.0000, Accuracy: 0.79, Learning Rate: 0.00000133\n",
      "No improvement. Patience counter: 4/5\n",
      "Epoch 39/50, Loss: 0.0000, Accuracy: 0.79, Learning Rate: 0.00000122\n",
      "No improvement. Patience counter: 5/5\n",
      "Early stopping triggered.\n"
     ]
    }
   ],
   "source": [
    "from run_bert import run\n",
    "for i in range(1, 11):\n",
    "    run(i, 50)"
   ]
  },
  {
   "cell_type": "markdown",
   "metadata": {},
   "source": [
    "## Config tokenizer and model"
   ]
  },
  {
   "cell_type": "markdown",
   "metadata": {},
   "source": [
    "#### Call BertModel"
   ]
  },
  {
   "cell_type": "code",
   "execution_count": 3,
   "metadata": {},
   "outputs": [
    {
     "name": "stderr",
     "output_type": "stream",
     "text": [
      "Some weights of BertForSequenceClassification were not initialized from the model checkpoint at bert-base-uncased and are newly initialized: ['classifier.bias', 'classifier.weight']\n",
      "You should probably TRAIN this model on a down-stream task to be able to use it for predictions and inference.\n",
      "/Users/alan/anaconda3/envs/capstone/lib/python3.11/site-packages/transformers/tokenization_utils_base.py:1601: FutureWarning: `clean_up_tokenization_spaces` was not set. It will be set to `True` by default. This behavior will be depracted in transformers v4.45, and will be then set to `False` by default. For more details check this issue: https://github.com/huggingface/transformers/issues/31884\n",
      "  warnings.warn(\n"
     ]
    },
    {
     "data": {
      "text/plain": [
       "Embedding(30527, 768, padding_idx=0)"
      ]
     },
     "execution_count": 3,
     "metadata": {},
     "output_type": "execute_result"
    }
   ],
   "source": [
    "# Create a config with the desired settings\n",
    "config = BertConfig.from_pretrained('bert-base-uncased', num_labels=2)\n",
    "\n",
    "# Load the model with the custom config\n",
    "model = BertForSequenceClassification.from_pretrained('bert-base-uncased', config=config)\n",
    "tokenizer = BertTokenizer.from_pretrained('bert-base-uncased')\n",
    "\n",
    "new_tokens = ['\\n', '(.)', '(..)', '(...)', 'xxx']\n",
    "tokenizer.add_tokens(new_tokens)\n",
    "model.resize_token_embeddings(len(tokenizer))"
   ]
  },
  {
   "cell_type": "markdown",
   "metadata": {},
   "source": [
    "#### Call AutoModel"
   ]
  },
  {
   "cell_type": "markdown",
   "metadata": {},
   "source": [
    "## Load Data"
   ]
  },
  {
   "cell_type": "code",
   "execution_count": 17,
   "metadata": {},
   "outputs": [],
   "source": [
    "train_complete = pd.read_csv(\"../data/train_complete_v3_4400.csv\")\n",
    "# train = train_complete[train_complete[\"example_index\"].apply(lambda x: len(str(x)) <= 4)]\n",
    "train = train_complete[train_complete[\"original_index\"].apply(lambda x: pd.isna(x))]\n",
    "# synthetic = train_complete[train_complete[\"original_index\"].apply(lambda x: pd.notna(x))]\n",
    "# train = pd.concat((true, synthetic.groupby('original_index').head(5)))\n",
    "lines_train = train[\"line\"].to_list()\n",
    "labels_train = train[\"label\"].to_list()\n",
    "\n",
    "test = pd.read_csv(\"../data/test_complete_v1_86.csv\")\n",
    "lines_test = test[\"line\"].to_list()\n",
    "labels_test = test[\"label\"].to_list()"
   ]
  },
  {
   "cell_type": "code",
   "execution_count": 20,
   "metadata": {},
   "outputs": [
    {
     "name": "stdout",
     "output_type": "stream",
     "text": [
      "(400, 4) (86, 5)\n"
     ]
    }
   ],
   "source": [
    "print(train.shape, test.shape)"
   ]
  },
  {
   "cell_type": "code",
   "execution_count": 21,
   "metadata": {},
   "outputs": [],
   "source": [
    "train_dataset = TextDataset(lines_train, labels_train, tokenizer)\n",
    "test_dataset = TextDataset(lines_test, labels_test, tokenizer)\n",
    "\n",
    "\n",
    "train_dataloader = DataLoader(train_dataset, shuffle=True, batch_size=4)\n",
    "test_dataloader = DataLoader(test_dataset, batch_size=16)"
   ]
  },
  {
   "cell_type": "markdown",
   "metadata": {},
   "source": [
    "## Set Up Model"
   ]
  },
  {
   "cell_type": "code",
   "execution_count": 22,
   "metadata": {},
   "outputs": [],
   "source": [
    "def model_accuracy(model, dataloader, device):\n",
    "    \"\"\"Evaluates the model on the given dataloader and returns accuracy\"\"\"\n",
    "    model.eval()  # Set the model to evaluation mode\n",
    "\n",
    "    correct_predictions = 0\n",
    "    total_predictions = 0\n",
    "    all_predictions = []\n",
    "    all_labels = []\n",
    "\n",
    "    with torch.no_grad():  # Disable gradient computation\n",
    "        for batch in dataloader:\n",
    "            # Move batch to device\n",
    "            batch = {k: v.to(device) for k, v in batch.items()}\n",
    "\n",
    "            # Forward pass\n",
    "            outputs = model(**batch)\n",
    "            logits = outputs.logits\n",
    "\n",
    "            # Get predictions\n",
    "            predictions = torch.argmax(logits, dim=-1)\n",
    "            labels = batch['labels']\n",
    "\n",
    "            # Update correct predictions and totals\n",
    "            correct_predictions += (predictions == labels).sum().item()\n",
    "            total_predictions += labels.size(0)\n",
    "\n",
    "            # Collect all predictions and labels for other metrics\n",
    "            all_predictions.extend(predictions.cpu().numpy())\n",
    "            all_labels.extend(labels.cpu().numpy())\n",
    "\n",
    "    # Calculate accuracy\n",
    "    accuracy = correct_predictions / total_predictions\n",
    "\n",
    "    return accuracy"
   ]
  },
  {
   "cell_type": "code",
   "execution_count": 23,
   "metadata": {},
   "outputs": [
    {
     "name": "stdout",
     "output_type": "stream",
     "text": [
      "num_epochs 50\n"
     ]
    },
    {
     "data": {
      "text/plain": [
       "BertForSequenceClassification(\n",
       "  (bert): BertModel(\n",
       "    (embeddings): BertEmbeddings(\n",
       "      (word_embeddings): Embedding(30527, 768, padding_idx=0)\n",
       "      (position_embeddings): Embedding(512, 768)\n",
       "      (token_type_embeddings): Embedding(2, 768)\n",
       "      (LayerNorm): LayerNorm((768,), eps=1e-12, elementwise_affine=True)\n",
       "      (dropout): Dropout(p=0.1, inplace=False)\n",
       "    )\n",
       "    (encoder): BertEncoder(\n",
       "      (layer): ModuleList(\n",
       "        (0-11): 12 x BertLayer(\n",
       "          (attention): BertAttention(\n",
       "            (self): BertSdpaSelfAttention(\n",
       "              (query): Linear(in_features=768, out_features=768, bias=True)\n",
       "              (key): Linear(in_features=768, out_features=768, bias=True)\n",
       "              (value): Linear(in_features=768, out_features=768, bias=True)\n",
       "              (dropout): Dropout(p=0.1, inplace=False)\n",
       "            )\n",
       "            (output): BertSelfOutput(\n",
       "              (dense): Linear(in_features=768, out_features=768, bias=True)\n",
       "              (LayerNorm): LayerNorm((768,), eps=1e-12, elementwise_affine=True)\n",
       "              (dropout): Dropout(p=0.1, inplace=False)\n",
       "            )\n",
       "          )\n",
       "          (intermediate): BertIntermediate(\n",
       "            (dense): Linear(in_features=768, out_features=3072, bias=True)\n",
       "            (intermediate_act_fn): GELUActivation()\n",
       "          )\n",
       "          (output): BertOutput(\n",
       "            (dense): Linear(in_features=3072, out_features=768, bias=True)\n",
       "            (LayerNorm): LayerNorm((768,), eps=1e-12, elementwise_affine=True)\n",
       "            (dropout): Dropout(p=0.1, inplace=False)\n",
       "          )\n",
       "        )\n",
       "      )\n",
       "    )\n",
       "    (pooler): BertPooler(\n",
       "      (dense): Linear(in_features=768, out_features=768, bias=True)\n",
       "      (activation): Tanh()\n",
       "    )\n",
       "  )\n",
       "  (dropout): Dropout(p=0.1, inplace=False)\n",
       "  (classifier): Linear(in_features=768, out_features=2, bias=True)\n",
       ")"
      ]
     },
     "execution_count": 23,
     "metadata": {},
     "output_type": "execute_result"
    }
   ],
   "source": [
    "optimizer = AdamW(model.parameters(), lr=5e-6)\n",
    "criterion = nn.CrossEntropyLoss()\n",
    "\n",
    "# Learning rate scheduler with warm-up\n",
    "# cap_training_steps = 5000\n",
    "# num_epochs = cap_training_steps // len(train_dataloader)\n",
    "num_epochs = 50\n",
    "cap_training_steps = num_epochs * len(train_dataloader)\n",
    "print(\"num_epochs\", num_epochs)\n",
    "# num_training_steps = num_epochs * len(train_dataloader)\n",
    "num_warmup_steps = int(0.1 * cap_training_steps)  # 10% warm-up\n",
    "lr_scheduler = get_scheduler(\n",
    "    name=\"linear\", optimizer=optimizer, num_warmup_steps=num_warmup_steps, num_training_steps=cap_training_steps\n",
    ")\n",
    "\n",
    "# Early stopping parameters\n",
    "patience = 5  # Number of epochs to wait for improvement\n",
    "best_loss = float('inf')\n",
    "patience_counter = 0\n",
    "\n",
    "model.to(device)"
   ]
  },
  {
   "cell_type": "markdown",
   "metadata": {},
   "source": [
    "## Train"
   ]
  },
  {
   "cell_type": "code",
   "execution_count": 24,
   "metadata": {},
   "outputs": [
    {
     "data": {
      "application/vnd.jupyter.widget-view+json": {
       "model_id": "ade98b25ec95414f9ce3ea7155dd32a4",
       "version_major": 2,
       "version_minor": 0
      },
      "text/plain": [
       "  0%|          | 0/5000 [00:00<?, ?it/s]"
      ]
     },
     "metadata": {},
     "output_type": "display_data"
    },
    {
     "data": {
      "application/vnd.jupyter.widget-view+json": {
       "model_id": "944e39265ecd4b6faf42b21de83553b6",
       "version_major": 2,
       "version_minor": 0
      },
      "text/plain": [
       "  0%|          | 0/50 [00:00<?, ?it/s]"
      ]
     },
     "metadata": {},
     "output_type": "display_data"
    },
    {
     "name": "stdout",
     "output_type": "stream",
     "text": [
      "Epoch 1/50, Loss: 70.7146, Accuracy: 0.51, Learning Rate: 0.00000100\n",
      "Epoch 2/50, Loss: 65.7786, Accuracy: 0.73, Learning Rate: 0.00000200\n",
      "Epoch 3/50, Loss: 59.6564, Accuracy: 0.73, Learning Rate: 0.00000300\n",
      "Epoch 4/50, Loss: 54.4302, Accuracy: 0.69, Learning Rate: 0.00000400\n",
      "Epoch 5/50, Loss: 48.6698, Accuracy: 0.77, Learning Rate: 0.00000500\n",
      "Epoch 6/50, Loss: 40.6442, Accuracy: 0.76, Learning Rate: 0.00000489\n",
      "Epoch 7/50, Loss: 39.7658, Accuracy: 0.74, Learning Rate: 0.00000478\n",
      "Epoch 8/50, Loss: 35.8822, Accuracy: 0.80, Learning Rate: 0.00000467\n",
      "Epoch 9/50, Loss: 24.7749, Accuracy: 0.77, Learning Rate: 0.00000456\n",
      "Epoch 10/50, Loss: 22.9301, Accuracy: 0.76, Learning Rate: 0.00000444\n",
      "Epoch 11/50, Loss: 17.3018, Accuracy: 0.78, Learning Rate: 0.00000433\n",
      "Epoch 12/50, Loss: 12.8486, Accuracy: 0.77, Learning Rate: 0.00000422\n",
      "Epoch 13/50, Loss: 8.5204, Accuracy: 0.78, Learning Rate: 0.00000411\n",
      "Epoch 14/50, Loss: 7.9304, Accuracy: 0.78, Learning Rate: 0.00000400\n",
      "Epoch 15/50, Loss: 5.8050, Accuracy: 0.78, Learning Rate: 0.00000389\n",
      "Epoch 16/50, Loss: 4.3936, Accuracy: 0.79, Learning Rate: 0.00000378\n",
      "Epoch 17/50, Loss: 6.2576, Accuracy: 0.80, Learning Rate: 0.00000367\n",
      "No improvement. Patience counter: 1/5\n",
      "Epoch 18/50, Loss: 1.7611, Accuracy: 0.79, Learning Rate: 0.00000356\n",
      "Epoch 19/50, Loss: 0.3140, Accuracy: 0.80, Learning Rate: 0.00000344\n",
      "Epoch 20/50, Loss: 2.8100, Accuracy: 0.83, Learning Rate: 0.00000333\n",
      "No improvement. Patience counter: 1/5\n",
      "Epoch 21/50, Loss: 0.2566, Accuracy: 0.80, Learning Rate: 0.00000322\n",
      "Epoch 22/50, Loss: 0.4254, Accuracy: 0.80, Learning Rate: 0.00000311\n",
      "No improvement. Patience counter: 1/5\n",
      "Epoch 23/50, Loss: 0.0416, Accuracy: 0.81, Learning Rate: 0.00000300\n",
      "Epoch 24/50, Loss: 0.0446, Accuracy: 0.79, Learning Rate: 0.00000289\n",
      "No improvement. Patience counter: 1/5\n",
      "Epoch 25/50, Loss: 0.2145, Accuracy: 0.78, Learning Rate: 0.00000278\n",
      "No improvement. Patience counter: 2/5\n",
      "Epoch 26/50, Loss: 0.0291, Accuracy: 0.81, Learning Rate: 0.00000267\n",
      "Epoch 27/50, Loss: 0.0330, Accuracy: 0.80, Learning Rate: 0.00000256\n",
      "No improvement. Patience counter: 1/5\n",
      "Epoch 28/50, Loss: 0.0253, Accuracy: 0.81, Learning Rate: 0.00000244\n",
      "Epoch 29/50, Loss: 0.0237, Accuracy: 0.81, Learning Rate: 0.00000233\n",
      "Epoch 30/50, Loss: 0.0239, Accuracy: 0.78, Learning Rate: 0.00000222\n",
      "No improvement. Patience counter: 1/5\n",
      "Epoch 31/50, Loss: 0.3503, Accuracy: 0.81, Learning Rate: 0.00000211\n",
      "No improvement. Patience counter: 2/5\n",
      "Epoch 32/50, Loss: 0.0252, Accuracy: 0.78, Learning Rate: 0.00000200\n",
      "No improvement. Patience counter: 3/5\n",
      "Epoch 33/50, Loss: 0.0211, Accuracy: 0.81, Learning Rate: 0.00000189\n",
      "Epoch 34/50, Loss: 0.0209, Accuracy: 0.80, Learning Rate: 0.00000178\n",
      "Epoch 35/50, Loss: 0.0169, Accuracy: 0.81, Learning Rate: 0.00000167\n",
      "Epoch 36/50, Loss: 0.0158, Accuracy: 0.83, Learning Rate: 0.00000156\n",
      "Epoch 37/50, Loss: 0.0148, Accuracy: 0.83, Learning Rate: 0.00000144\n",
      "Epoch 38/50, Loss: 0.0146, Accuracy: 0.83, Learning Rate: 0.00000133\n",
      "Epoch 39/50, Loss: 0.0140, Accuracy: 0.83, Learning Rate: 0.00000122\n",
      "Epoch 40/50, Loss: 0.1005, Accuracy: 0.81, Learning Rate: 0.00000111\n",
      "No improvement. Patience counter: 1/5\n",
      "Epoch 41/50, Loss: 0.0148, Accuracy: 0.83, Learning Rate: 0.00000100\n",
      "No improvement. Patience counter: 2/5\n",
      "Epoch 42/50, Loss: 0.0206, Accuracy: 0.81, Learning Rate: 0.00000089\n",
      "No improvement. Patience counter: 3/5\n",
      "Epoch 43/50, Loss: 0.0130, Accuracy: 0.81, Learning Rate: 0.00000078\n",
      "Epoch 44/50, Loss: 0.0122, Accuracy: 0.81, Learning Rate: 0.00000067\n",
      "Epoch 45/50, Loss: 0.0117, Accuracy: 0.81, Learning Rate: 0.00000056\n",
      "Epoch 46/50, Loss: 0.0126, Accuracy: 0.81, Learning Rate: 0.00000044\n",
      "No improvement. Patience counter: 1/5\n",
      "Epoch 47/50, Loss: 0.0114, Accuracy: 0.83, Learning Rate: 0.00000033\n",
      "Epoch 48/50, Loss: 0.0117, Accuracy: 0.81, Learning Rate: 0.00000022\n",
      "No improvement. Patience counter: 1/5\n",
      "Epoch 49/50, Loss: 0.0112, Accuracy: 0.81, Learning Rate: 0.00000011\n",
      "Epoch 50/50, Loss: 0.0112, Accuracy: 0.81, Learning Rate: 0.00000000\n"
     ]
    }
   ],
   "source": [
    "progress_bar = tqdm(range(cap_training_steps))\n",
    "\n",
    "for epoch in tqdm(range(num_epochs)):\n",
    "    epoch_loss = 0\n",
    "    model.train()\n",
    "    for batch in train_dataloader:\n",
    "        batch = {k: v.to(device) for k, v in batch.items()}\n",
    "        outputs = model(**batch)\n",
    "        loss = criterion(outputs.logits, batch['labels'])\n",
    "        epoch_loss += loss.item()\n",
    "\n",
    "        optimizer.zero_grad()\n",
    "        loss.backward()\n",
    "        torch.nn.utils.clip_grad_norm_(model.parameters(), max_norm=1.0)\n",
    "        optimizer.step()\n",
    "        lr_scheduler.step()\n",
    "\n",
    "        progress_bar.update(1)\n",
    "        \n",
    "    epoch_accuracy = model_accuracy(model, test_dataloader, device)\n",
    "    current_lr = lr_scheduler.get_last_lr()[0]\n",
    "    print(f\"Epoch {epoch+1}/{num_epochs}, Loss: {epoch_loss:.4f}, Accuracy: {epoch_accuracy:.2f}, Learning Rate: {lr_scheduler.get_last_lr()[0]:.8f}\")\n",
    "\n",
    "    if epoch_loss < best_loss:\n",
    "        best_loss = epoch_loss\n",
    "        patience_counter = 0\n",
    "        # Save the best model\n",
    "        torch.save(model.state_dict(), \"models.nosync/tmp.pt\")\n",
    "        best_epoch = epoch\n",
    "        best_acc = epoch_accuracy\n",
    "    else:\n",
    "        patience_counter += 1\n",
    "        print(f\"No improvement. Patience counter: {patience_counter}/{patience}\")\n",
    "\n",
    "    if patience_counter >= patience and best_loss < 20:\n",
    "        print(\"Early stopping triggered.\")\n",
    "        break\n",
    "os.rename(\"models.nosync/tmp.pt\", \"models.nosync/true_{0}_{1}epoch_{2}acc_{3}loss.pt\".format(train.shape[0], best_epoch, round(best_acc * 100), round(best_loss,2)))"
   ]
  },
  {
   "cell_type": "markdown",
   "metadata": {},
   "source": [
    "## Test"
   ]
  },
  {
   "cell_type": "code",
   "execution_count": 37,
   "metadata": {},
   "outputs": [
    {
     "data": {
      "text/plain": [
       "<All keys matched successfully>"
      ]
     },
     "execution_count": 37,
     "metadata": {},
     "output_type": "execute_result"
    }
   ],
   "source": [
    "# model.load_state_dict(torch.load(\"models.nosync/true_data_49epoch_80acc.pt\"))\n",
    "model.load_state_dict(torch.load(\"models.nosync/v4_4400_33epoch_78acc_0.0loss.pt\"))"
   ]
  },
  {
   "cell_type": "code",
   "execution_count": 38,
   "metadata": {},
   "outputs": [],
   "source": [
    "test = pd.read_csv(\"../data/test_complete_v1_149.csv\")\n",
    "lines_test = test[\"line\"].to_list()\n",
    "labels_test = test[\"label\"].to_list()\n",
    "test_dataset = TextDataset(lines_test, labels_test, tokenizer)\n",
    "test_dataloader = DataLoader(test_dataset, batch_size=16)"
   ]
  },
  {
   "cell_type": "code",
   "execution_count": 39,
   "metadata": {},
   "outputs": [
    {
     "name": "stdout",
     "output_type": "stream",
     "text": [
      "Accuracy:\t 0.7516778523489933\n",
      "Precision:\t 0.8157396441052185\n",
      "Recall:\t\t 0.7516778523489933\n",
      "F1 Score:\t 0.7630429841247054\n"
     ]
    },
    {
     "data": {
      "image/png": "[encoded data removed]",
      "text/plain": [
       "<Figure size 400x400 with 2 Axes>"
      ]
     },
     "metadata": {},
     "output_type": "display_data"
    }
   ],
   "source": [
    "# Load the metrics you want to compute\n",
    "accuracy_metric = evaluate.load(\"accuracy\")\n",
    "precision_metric = evaluate.load(\"precision\")\n",
    "recall_metric = evaluate.load(\"recall\")\n",
    "f1_metric = evaluate.load(\"f1\")\n",
    "\n",
    "# Initialize lists to store all predictions and references\n",
    "all_predictions = []\n",
    "all_references = []\n",
    "\n",
    "model.eval()  # Set the model to evaluation mode\n",
    "for batch in test_dataloader:\n",
    "    batch = {k: v.to(device) for k, v in batch.items()}\n",
    "    with torch.no_grad():\n",
    "        outputs = model(**batch)\n",
    "\n",
    "    logits = outputs.logits\n",
    "    predictions = torch.argmax(logits, dim=-1)\n",
    "\n",
    "    # Move predictions and references to CPU and convert to numpy arrays\n",
    "    predictions_cpu = predictions.cpu().numpy()\n",
    "    references_cpu = batch[\"labels\"].cpu().numpy()\n",
    "\n",
    "    # Store predictions and references\n",
    "    all_predictions.extend(predictions_cpu)\n",
    "    all_references.extend(references_cpu)\n",
    "\n",
    "# Compute all metrics at once using the full predictions\n",
    "accuracy = accuracy_metric.compute(predictions=all_predictions, references=all_references)\n",
    "precision = precision_metric.compute(predictions=all_predictions, references=all_references, average='weighted')\n",
    "recall = recall_metric.compute(predictions=all_predictions, references=all_references, average='weighted')\n",
    "f1 = f1_metric.compute(predictions=all_predictions, references=all_references, average='weighted')\n",
    "print(\"Accuracy:\\t\", accuracy['accuracy'])\n",
    "print(\"Precision:\\t\", precision['precision'])\n",
    "print(\"Recall:\\t\\t\", recall['recall'])\n",
    "print(\"F1 Score:\\t\", f1['f1'])\n",
    "\n",
    "# Compute and print confusion matrix\n",
    "from sklearn.metrics import confusion_matrix\n",
    "import seaborn as sns\n",
    "import matplotlib.pyplot as plt\n",
    "\n",
    "cm = confusion_matrix(all_references, all_predictions)\n",
    "plt.figure(figsize=(4,4))\n",
    "plt.rcParams.update({'font.size': 14})\n",
    "sns.heatmap(cm, annot=True, fmt='d', cmap='Blues', annot_kws={\"size\": 16})\n",
    "plt.xlabel('Predicted', fontsize=14)\n",
    "plt.ylabel('True', fontsize=14)\n",
    "plt.title('Confusion Matrix', fontsize=16)\n",
    "plt.show()\n"
   ]
  },
  {
   "cell_type": "code",
   "execution_count": null,
   "metadata": {},
   "outputs": [],
   "source": []
  }
 ],
 "metadata": {
  "kernelspec": {
   "display_name": "capstone",
   "language": "python",
   "name": "python3"
  },
  "language_info": {
   "codemirror_mode": {
    "name": "ipython",
    "version": 3
   },
   "file_extension": ".py",
   "mimetype": "text/x-python",
   "name": "python",
   "nbconvert_exporter": "python",
   "pygments_lexer": "ipython3",
   "version": "3.11.10"
  }
 },
 "nbformat": 4,
 "nbformat_minor": 2
}
