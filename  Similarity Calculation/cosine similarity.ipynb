{
 "cells": [
  {
   "cell_type": "code",
   "execution_count": 5,
   "metadata": {},
   "outputs": [
    {
     "name": "stderr",
     "output_type": "stream",
     "text": [
      "/Users/catherine/anaconda3/envs/Env1/lib/python3.11/site-packages/tqdm/auto.py:21: TqdmWarning: IProgress not found. Please update jupyter and ipywidgets. See https://ipywidgets.readthedocs.io/en/stable/user_install.html\n",
      "  from .autonotebook import tqdm as notebook_tqdm\n"
     ]
    }
   ],
   "source": [
    "from sklearn.metrics.pairwise import cosine_similarity\n",
    "from itertools import combinations\n",
    "import pandas as pd\n",
    "import numpy as np\n",
    "import matplotlib.pyplot as plt\n",
    "from sentence_transformers import SentenceTransformer, util"
   ]
  },
  {
   "cell_type": "code",
   "execution_count": 3,
   "metadata": {},
   "outputs": [],
   "source": [
    "path = '/Users/catherine/Desktop/Fall 2024/nlp-predict-AD/data/train_complete_v1_800.csv'\n",
    "data = pd.read_csv(path)"
   ]
  },
  {
   "cell_type": "code",
   "execution_count": 35,
   "metadata": {},
   "outputs": [],
   "source": [
    "def get_similarity(l1, l2):\n",
    "    model = SentenceTransformer('all-MiniLM-L6-v2')\n",
    "    embeddings_l1 = model.encode(l1.tolist(), convert_to_tensor=True)\n",
    "    embeddings_l2 = model.encode(l2.tolist(), convert_to_tensor=True)\n",
    "    similarity = model.similarity(embeddings_l1, embeddings_l2)\n",
    "    return similarity.mean().item()"
   ]
  },
  {
   "cell_type": "code",
   "execution_count": 36,
   "metadata": {},
   "outputs": [
    {
     "data": {
      "text/plain": [
       "0.6279763579368591"
      ]
     },
     "execution_count": 36,
     "metadata": {},
     "output_type": "execute_result"
    }
   ],
   "source": [
    "#control vs patient\n",
    "lines_label_1 = data[data['label'] == 1]['line'].reset_index(drop=True)\n",
    "lines_label_0 = data[data['label'] == 0]['line'].reset_index(drop=True)\n",
    "get_similarity(lines_label_1, lines_label_0)"
   ]
  },
  {
   "cell_type": "code",
   "execution_count": 42,
   "metadata": {},
   "outputs": [
    {
     "name": "stderr",
     "output_type": "stream",
     "text": [
      "/var/folders/96/qy4rp5xs53jg5bnrc23rsvl40000gn/T/ipykernel_83856/2501669806.py:4: SettingWithCopyWarning: \n",
      "A value is trying to be set on a copy of a slice from a DataFrame.\n",
      "Try using .loc[row_indexer,col_indexer] = value instead\n",
      "\n",
      "See the caveats in the documentation: https://pandas.pydata.org/pandas-docs/stable/user_guide/indexing.html#returning-a-view-versus-a-copy\n",
      "  train['example_index'] = train['example_index'].astype(int)\n"
     ]
    },
    {
     "data": {
      "text/plain": [
       "0.5434525609016418"
      ]
     },
     "execution_count": 42,
     "metadata": {},
     "output_type": "execute_result"
    }
   ],
   "source": [
    "# generated vs used to generate\n",
    "\n",
    "train = data[data[\"example_index\"].apply(lambda x: len(str(x)) <= 4)]\n",
    "train['example_index'] = train['example_index'].astype(int)   \n",
    "lines_label_1 = data[data['example_index'] == '[289, 290, 291, 292, 294, 295, 298, 299, 301, 303]']['line'].reset_index(drop=True)\n",
    "lines_label_0 = train[train['example_index'].isin([289, 290, 291, 292, 294, 295, 298, 299, 301, 303])]['line'].reset_index(drop=True)\n",
    "get_similarity(lines_label_1, lines_label_0)\n",
    "\n"
   ]
  },
  {
   "cell_type": "code",
   "execution_count": 38,
   "metadata": {},
   "outputs": [
    {
     "data": {
      "text/plain": [
       "0.5647330284118652"
      ]
     },
     "execution_count": 38,
     "metadata": {},
     "output_type": "execute_result"
    }
   ],
   "source": [
    "lines_label_0 = train[train['example_index'].isin([119, 120, 124, 125, 126, 127, 129, 131, 132, 133])]['line'].reset_index(drop=True)\n",
    "get_similarity(lines_label_1, lines_label_0)\n"
   ]
  },
  {
   "cell_type": "code",
   "execution_count": 39,
   "metadata": {},
   "outputs": [
    {
     "data": {
      "text/plain": [
       "0.5715659856796265"
      ]
     },
     "execution_count": 39,
     "metadata": {},
     "output_type": "execute_result"
    }
   ],
   "source": [
    "lines_label_0 = train[train['example_index'].isin([484, 486, 487, 488, 489, 490, 491, 492, 496, 498])]['line'].reset_index(drop=True)\n",
    "get_similarity(lines_label_1, lines_label_0)"
   ]
  },
  {
   "cell_type": "code",
   "execution_count": 40,
   "metadata": {},
   "outputs": [
    {
     "data": {
      "text/plain": [
       "0.6274001002311707"
      ]
     },
     "execution_count": 40,
     "metadata": {},
     "output_type": "execute_result"
    }
   ],
   "source": [
    "# generated vs original \n",
    "original = data[data[\"example_index\"].apply(lambda x: len(str(x)) <= 4)]\n",
    "generated = data[data[\"example_index\"].apply(lambda x: len(str(x)) > 4)]\n",
    "original_lines = original['line']\n",
    "generated_lines = generated['line']\n",
    "get_similarity(original_lines, generated_lines)\n"
   ]
  },
  {
   "cell_type": "code",
   "execution_count": 41,
   "metadata": {},
   "outputs": [
    {
     "data": {
      "text/plain": [
       "0.687716007232666"
      ]
     },
     "execution_count": 41,
     "metadata": {},
     "output_type": "execute_result"
    }
   ],
   "source": [
    "# generated vs generated\n",
    "get_similarity(generated_lines, generated_lines)\n"
   ]
  },
  {
   "cell_type": "code",
   "execution_count": null,
   "metadata": {},
   "outputs": [],
   "source": []
  }
 ],
 "metadata": {
  "kernelspec": {
   "display_name": "Env1",
   "language": "python",
   "name": "python3"
  },
  "language_info": {
   "codemirror_mode": {
    "name": "ipython",
    "version": 3
   },
   "file_extension": ".py",
   "mimetype": "text/x-python",
   "name": "python",
   "nbconvert_exporter": "python",
   "pygments_lexer": "ipython3",
   "version": "3.11.0"
  }
 },
 "nbformat": 4,
 "nbformat_minor": 2
}
